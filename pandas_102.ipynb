{
 "cells": [
  {
   "cell_type": "code",
   "execution_count": 100,
   "metadata": {
    "collapsed": true,
    "pycharm": {
     "name": "#%%\n"
    }
   },
   "outputs": [
    {
     "data": {
      "text/plain": "'1.4.3'"
     },
     "execution_count": 100,
     "metadata": {},
     "output_type": "execute_result"
    }
   ],
   "source": [
    "import pandas as pd\n",
    "import matplotlib.pyplot as plt\n",
    "pd.__version__"
   ]
  },
  {
   "cell_type": "code",
   "execution_count": 3,
   "outputs": [
    {
     "data": {
      "text/plain": "    cars  passings\n0    BMW         3\n1  Volvo         7\n2   Ford         2",
      "text/html": "<div>\n<style scoped>\n    .dataframe tbody tr th:only-of-type {\n        vertical-align: middle;\n    }\n\n    .dataframe tbody tr th {\n        vertical-align: top;\n    }\n\n    .dataframe thead th {\n        text-align: right;\n    }\n</style>\n<table border=\"1\" class=\"dataframe\">\n  <thead>\n    <tr style=\"text-align: right;\">\n      <th></th>\n      <th>cars</th>\n      <th>passings</th>\n    </tr>\n  </thead>\n  <tbody>\n    <tr>\n      <th>0</th>\n      <td>BMW</td>\n      <td>3</td>\n    </tr>\n    <tr>\n      <th>1</th>\n      <td>Volvo</td>\n      <td>7</td>\n    </tr>\n    <tr>\n      <th>2</th>\n      <td>Ford</td>\n      <td>2</td>\n    </tr>\n  </tbody>\n</table>\n</div>"
     },
     "execution_count": 3,
     "metadata": {},
     "output_type": "execute_result"
    }
   ],
   "source": [
    "dataSet = {\n",
    "    'cars':[\"BMW\", \"Volvo\", \"Ford\"],\n",
    "    'passings':[3,7,2]\n",
    "}\n",
    "my_df = pd.DataFrame(dataSet)\n",
    "my_df"
   ],
   "metadata": {
    "collapsed": false,
    "pycharm": {
     "name": "#%%\n"
    }
   }
  },
  {
   "cell_type": "markdown",
   "source": [
    "# Sries in Pandas\n",
    "> ---\n",
    "> - Series is like a column in a table.\n",
    "> - It is a 1-D array holding data of any type.\n",
    "> ---"
   ],
   "metadata": {
    "collapsed": false,
    "pycharm": {
     "name": "#%% md\n"
    }
   }
  },
  {
   "cell_type": "code",
   "execution_count": 4,
   "outputs": [
    {
     "data": {
      "text/plain": "0    1\n1    7\n2    2\ndtype: int64"
     },
     "execution_count": 4,
     "metadata": {},
     "output_type": "execute_result"
    }
   ],
   "source": [
    "a = [1,7,2]\n",
    "my_ser = pd.Series(a)\n",
    "my_ser"
   ],
   "metadata": {
    "collapsed": false,
    "pycharm": {
     "name": "#%%\n"
    }
   }
  },
  {
   "cell_type": "markdown",
   "source": [
    "# Labels in Pandas\n",
    "> ---\n",
    "> - By default, the values are labeled with their index number. The index starts with '0' and so on.\n",
    "> - This label can be used to access a specified value.\n",
    "> ---"
   ],
   "metadata": {
    "collapsed": false,
    "pycharm": {
     "name": "#%% md\n"
    }
   }
  },
  {
   "cell_type": "code",
   "execution_count": 5,
   "outputs": [
    {
     "data": {
      "text/plain": "(1, 7, 2)"
     },
     "execution_count": 5,
     "metadata": {},
     "output_type": "execute_result"
    }
   ],
   "source": [
    "my_ser[0],my_ser[1],my_ser[2]"
   ],
   "metadata": {
    "collapsed": false,
    "pycharm": {
     "name": "#%%\n"
    }
   }
  },
  {
   "cell_type": "markdown",
   "source": [
    "# Create Labels\n",
    "> ---\n",
    "> - If you have index argument, you can name your own labels.\n",
    "> ---"
   ],
   "metadata": {
    "collapsed": false,
    "pycharm": {
     "name": "#%% md\n"
    }
   }
  },
  {
   "cell_type": "code",
   "execution_count": 6,
   "outputs": [
    {
     "data": {
      "text/plain": "x    1\ny    7\nz    2\ndtype: int64"
     },
     "execution_count": 6,
     "metadata": {},
     "output_type": "execute_result"
    }
   ],
   "source": [
    "lab_ser = pd.Series(a,index = [\"x\", \"y\", \"z\"])\n",
    "lab_ser"
   ],
   "metadata": {
    "collapsed": false,
    "pycharm": {
     "name": "#%%\n"
    }
   }
  },
  {
   "cell_type": "code",
   "execution_count": 7,
   "outputs": [
    {
     "name": "stdout",
     "output_type": "stream",
     "text": [
      "Index(['x', 'y', 'z'], dtype='object')\n"
     ]
    },
    {
     "data": {
      "text/plain": "(1, 7, 2)"
     },
     "execution_count": 7,
     "metadata": {},
     "output_type": "execute_result"
    }
   ],
   "source": [
    "print(lab_ser.index)\n",
    "lab_ser[\"x\"],lab_ser[\"y\"],lab_ser[\"z\"]"
   ],
   "metadata": {
    "collapsed": false,
    "pycharm": {
     "name": "#%%\n"
    }
   }
  },
  {
   "cell_type": "markdown",
   "source": [
    "# Dictionary as Sries in Pandas\n",
    "> ---\n",
    "> - The keys of the dictionary become the labels.\n",
    "> - Use the index argument and specify only the items you want to include in the Series.\n",
    "> ---"
   ],
   "metadata": {
    "collapsed": false,
    "pycharm": {
     "name": "#%% md\n"
    }
   }
  },
  {
   "cell_type": "code",
   "execution_count": 31,
   "outputs": [
    {
     "data": {
      "text/plain": "day1    400\nday2    300\nday3    190\ndtype: int64"
     },
     "execution_count": 31,
     "metadata": {},
     "output_type": "execute_result"
    }
   ],
   "source": [
    "calestrol = {\"day1\": 400, \"day2\": 300, \"day3\": 190}\n",
    "my_cal = pd.Series(calestrol)\n",
    "my_cal"
   ],
   "metadata": {
    "collapsed": false,
    "pycharm": {
     "name": "#%%\n"
    }
   }
  },
  {
   "cell_type": "code",
   "execution_count": 9,
   "outputs": [
    {
     "data": {
      "text/plain": "day1    400\nday3    190\ndtype: int64"
     },
     "execution_count": 9,
     "metadata": {},
     "output_type": "execute_result"
    }
   ],
   "source": [
    "# Day2 will be dropped\n",
    "my_cal_indx = pd.Series(calestrol,index=['day1','day3'])\n",
    "my_cal_indx"
   ],
   "metadata": {
    "collapsed": false,
    "pycharm": {
     "name": "#%%\n"
    }
   }
  },
  {
   "cell_type": "markdown",
   "source": [
    "# DataFrames in Pandas\n",
    "> ---\n",
    "> - Data sets in Pandas are usually multidimensional tables, called DataFrames.\n",
    "> - Series is like a column, a DataFrame is the whole table.\n",
    "> ---"
   ],
   "metadata": {
    "collapsed": false,
    "pycharm": {
     "name": "#%% md\n"
    }
   }
  },
  {
   "cell_type": "code",
   "execution_count": 10,
   "outputs": [
    {
     "data": {
      "text/plain": "    cars  passings\n0    BMW         3\n1  Volvo         7\n2   Ford         2",
      "text/html": "<div>\n<style scoped>\n    .dataframe tbody tr th:only-of-type {\n        vertical-align: middle;\n    }\n\n    .dataframe tbody tr th {\n        vertical-align: top;\n    }\n\n    .dataframe thead th {\n        text-align: right;\n    }\n</style>\n<table border=\"1\" class=\"dataframe\">\n  <thead>\n    <tr style=\"text-align: right;\">\n      <th></th>\n      <th>cars</th>\n      <th>passings</th>\n    </tr>\n  </thead>\n  <tbody>\n    <tr>\n      <th>0</th>\n      <td>BMW</td>\n      <td>3</td>\n    </tr>\n    <tr>\n      <th>1</th>\n      <td>Volvo</td>\n      <td>7</td>\n    </tr>\n    <tr>\n      <th>2</th>\n      <td>Ford</td>\n      <td>2</td>\n    </tr>\n  </tbody>\n</table>\n</div>"
     },
     "execution_count": 10,
     "metadata": {},
     "output_type": "execute_result"
    }
   ],
   "source": [
    "dataSet = {\n",
    "    'cars':[\"BMW\", \"Volvo\", \"Ford\"],\n",
    "    'passings':[3,7,2]\n",
    "}\n",
    "my_df = pd.DataFrame(dataSet)\n",
    "my_df"
   ],
   "metadata": {
    "collapsed": false,
    "pycharm": {
     "name": "#%%\n"
    }
   }
  },
  {
   "cell_type": "markdown",
   "source": [
    "# Locate Row\n",
    "> ---\n",
    "> - DataFrame is table having row and column\n",
    "> - We use <span style=\"color:green ; font-size:30px\" >loc[ ]</span> attribute to return rows\n",
    "> - Its return value is pandas Series object But using [], the result is a Pandas DataFrame\n",
    "> ---"
   ],
   "metadata": {
    "collapsed": false,
    "pycharm": {
     "name": "#%% md\n"
    }
   }
  },
  {
   "cell_type": "code",
   "execution_count": 11,
   "outputs": [
    {
     "data": {
      "text/plain": "cars        BMW\npassings      3\nName: 0, dtype: object"
     },
     "execution_count": 11,
     "metadata": {},
     "output_type": "execute_result"
    }
   ],
   "source": [
    "my_df.loc[0]"
   ],
   "metadata": {
    "collapsed": false,
    "pycharm": {
     "name": "#%%\n"
    }
   }
  },
  {
   "cell_type": "code",
   "execution_count": 12,
   "outputs": [
    {
     "data": {
      "text/plain": "    cars  passings\n1  Volvo         7\n2   Ford         2",
      "text/html": "<div>\n<style scoped>\n    .dataframe tbody tr th:only-of-type {\n        vertical-align: middle;\n    }\n\n    .dataframe tbody tr th {\n        vertical-align: top;\n    }\n\n    .dataframe thead th {\n        text-align: right;\n    }\n</style>\n<table border=\"1\" class=\"dataframe\">\n  <thead>\n    <tr style=\"text-align: right;\">\n      <th></th>\n      <th>cars</th>\n      <th>passings</th>\n    </tr>\n  </thead>\n  <tbody>\n    <tr>\n      <th>1</th>\n      <td>Volvo</td>\n      <td>7</td>\n    </tr>\n    <tr>\n      <th>2</th>\n      <td>Ford</td>\n      <td>2</td>\n    </tr>\n  </tbody>\n</table>\n</div>"
     },
     "execution_count": 12,
     "metadata": {},
     "output_type": "execute_result"
    }
   ],
   "source": [
    "my_df.loc[[1,2]]"
   ],
   "metadata": {
    "collapsed": false,
    "pycharm": {
     "name": "#%%\n"
    }
   }
  },
  {
   "cell_type": "markdown",
   "source": [
    "# Named Indexes\n",
    "> ---\n",
    "> - With the index argument, you can name your own indexes.\n",
    "> ---"
   ],
   "metadata": {
    "collapsed": false,
    "pycharm": {
     "name": "#%% md\n"
    }
   }
  },
  {
   "cell_type": "code",
   "execution_count": 13,
   "outputs": [
    {
     "data": {
      "text/plain": "      calories  duration\nday1       420        50\nday2       380        40\nday3       390        45",
      "text/html": "<div>\n<style scoped>\n    .dataframe tbody tr th:only-of-type {\n        vertical-align: middle;\n    }\n\n    .dataframe tbody tr th {\n        vertical-align: top;\n    }\n\n    .dataframe thead th {\n        text-align: right;\n    }\n</style>\n<table border=\"1\" class=\"dataframe\">\n  <thead>\n    <tr style=\"text-align: right;\">\n      <th></th>\n      <th>calories</th>\n      <th>duration</th>\n    </tr>\n  </thead>\n  <tbody>\n    <tr>\n      <th>day1</th>\n      <td>420</td>\n      <td>50</td>\n    </tr>\n    <tr>\n      <th>day2</th>\n      <td>380</td>\n      <td>40</td>\n    </tr>\n    <tr>\n      <th>day3</th>\n      <td>390</td>\n      <td>45</td>\n    </tr>\n  </tbody>\n</table>\n</div>"
     },
     "execution_count": 13,
     "metadata": {},
     "output_type": "execute_result"
    }
   ],
   "source": [
    "data = {\n",
    "    \"calories\": [420, 380, 390],\n",
    "    \"duration\": [50, 40, 45]\n",
    "}\n",
    "\n",
    "df_name_index = pd.DataFrame(data, index = [\"day1\", \"day2\", \"day3\"])\n",
    "df_name_index"
   ],
   "metadata": {
    "collapsed": false,
    "pycharm": {
     "name": "#%%\n"
    }
   }
  },
  {
   "cell_type": "code",
   "execution_count": 14,
   "outputs": [
    {
     "data": {
      "text/plain": "calories    420\nduration     50\nName: day1, dtype: int64"
     },
     "execution_count": 14,
     "metadata": {},
     "output_type": "execute_result"
    }
   ],
   "source": [
    "df_name_index.loc['day1']"
   ],
   "metadata": {
    "collapsed": false,
    "pycharm": {
     "name": "#%%\n"
    }
   }
  },
  {
   "cell_type": "code",
   "execution_count": 15,
   "outputs": [
    {
     "data": {
      "text/plain": "      calories  duration\nday1       420        50\nday2       380        40\nday3       390        45",
      "text/html": "<div>\n<style scoped>\n    .dataframe tbody tr th:only-of-type {\n        vertical-align: middle;\n    }\n\n    .dataframe tbody tr th {\n        vertical-align: top;\n    }\n\n    .dataframe thead th {\n        text-align: right;\n    }\n</style>\n<table border=\"1\" class=\"dataframe\">\n  <thead>\n    <tr style=\"text-align: right;\">\n      <th></th>\n      <th>calories</th>\n      <th>duration</th>\n    </tr>\n  </thead>\n  <tbody>\n    <tr>\n      <th>day1</th>\n      <td>420</td>\n      <td>50</td>\n    </tr>\n    <tr>\n      <th>day2</th>\n      <td>380</td>\n      <td>40</td>\n    </tr>\n    <tr>\n      <th>day3</th>\n      <td>390</td>\n      <td>45</td>\n    </tr>\n  </tbody>\n</table>\n</div>"
     },
     "execution_count": 15,
     "metadata": {},
     "output_type": "execute_result"
    }
   ],
   "source": [
    "df_name_index.loc[:]"
   ],
   "metadata": {
    "collapsed": false,
    "pycharm": {
     "name": "#%%\n"
    }
   }
  },
  {
   "cell_type": "code",
   "execution_count": 16,
   "outputs": [
    {
     "data": {
      "text/plain": "   Unnamed: 0           Name Sex   Age  Height  Weight   Team  Year  Season  \\\n0           0      A Dijiang   M  24.0   180.0    80.0  China  1992  Summer   \n1           1       A Lamusi   M  23.0   170.0    60.0  China  2012  Summer   \n2           2  Abudoureheman   M  22.0   182.0    75.0  China  2000  Summer   \n3           3      Ai Linuer   M  25.0   160.0    62.0  China  2004  Summer   \n4           4      Ai Yanhan   F  14.0   168.0    54.0  China  2016  Summer   \n\n             City       Sport                                     Event Medal  \\\n0       Barcelona  Basketball               Basketball Men's Basketball   NaN   \n1          London        Judo              Judo Men's Extra-Lightweight   NaN   \n2          Sydney      Boxing                 Boxing Men's Middleweight   NaN   \n3          Athina   Wrestling  Wrestling Men's Lightweight, Greco-Roman   NaN   \n4  Rio de Janeiro    Swimming     Swimming Women's 200 metres Freestyle   NaN   \n\n  region  \n0  China  \n1  China  \n2  China  \n3  China  \n4  China  ",
      "text/html": "<div>\n<style scoped>\n    .dataframe tbody tr th:only-of-type {\n        vertical-align: middle;\n    }\n\n    .dataframe tbody tr th {\n        vertical-align: top;\n    }\n\n    .dataframe thead th {\n        text-align: right;\n    }\n</style>\n<table border=\"1\" class=\"dataframe\">\n  <thead>\n    <tr style=\"text-align: right;\">\n      <th></th>\n      <th>Unnamed: 0</th>\n      <th>Name</th>\n      <th>Sex</th>\n      <th>Age</th>\n      <th>Height</th>\n      <th>Weight</th>\n      <th>Team</th>\n      <th>Year</th>\n      <th>Season</th>\n      <th>City</th>\n      <th>Sport</th>\n      <th>Event</th>\n      <th>Medal</th>\n      <th>region</th>\n    </tr>\n  </thead>\n  <tbody>\n    <tr>\n      <th>0</th>\n      <td>0</td>\n      <td>A Dijiang</td>\n      <td>M</td>\n      <td>24.0</td>\n      <td>180.0</td>\n      <td>80.0</td>\n      <td>China</td>\n      <td>1992</td>\n      <td>Summer</td>\n      <td>Barcelona</td>\n      <td>Basketball</td>\n      <td>Basketball Men's Basketball</td>\n      <td>NaN</td>\n      <td>China</td>\n    </tr>\n    <tr>\n      <th>1</th>\n      <td>1</td>\n      <td>A Lamusi</td>\n      <td>M</td>\n      <td>23.0</td>\n      <td>170.0</td>\n      <td>60.0</td>\n      <td>China</td>\n      <td>2012</td>\n      <td>Summer</td>\n      <td>London</td>\n      <td>Judo</td>\n      <td>Judo Men's Extra-Lightweight</td>\n      <td>NaN</td>\n      <td>China</td>\n    </tr>\n    <tr>\n      <th>2</th>\n      <td>2</td>\n      <td>Abudoureheman</td>\n      <td>M</td>\n      <td>22.0</td>\n      <td>182.0</td>\n      <td>75.0</td>\n      <td>China</td>\n      <td>2000</td>\n      <td>Summer</td>\n      <td>Sydney</td>\n      <td>Boxing</td>\n      <td>Boxing Men's Middleweight</td>\n      <td>NaN</td>\n      <td>China</td>\n    </tr>\n    <tr>\n      <th>3</th>\n      <td>3</td>\n      <td>Ai Linuer</td>\n      <td>M</td>\n      <td>25.0</td>\n      <td>160.0</td>\n      <td>62.0</td>\n      <td>China</td>\n      <td>2004</td>\n      <td>Summer</td>\n      <td>Athina</td>\n      <td>Wrestling</td>\n      <td>Wrestling Men's Lightweight, Greco-Roman</td>\n      <td>NaN</td>\n      <td>China</td>\n    </tr>\n    <tr>\n      <th>4</th>\n      <td>4</td>\n      <td>Ai Yanhan</td>\n      <td>F</td>\n      <td>14.0</td>\n      <td>168.0</td>\n      <td>54.0</td>\n      <td>China</td>\n      <td>2016</td>\n      <td>Summer</td>\n      <td>Rio de Janeiro</td>\n      <td>Swimming</td>\n      <td>Swimming Women's 200 metres Freestyle</td>\n      <td>NaN</td>\n      <td>China</td>\n    </tr>\n  </tbody>\n</table>\n</div>"
     },
     "execution_count": 16,
     "metadata": {},
     "output_type": "execute_result"
    }
   ],
   "source": [
    "olmp_df=pd.read_csv('olympicData.csv')\n",
    "olmp_df.head()"
   ],
   "metadata": {
    "collapsed": false,
    "pycharm": {
     "name": "#%%\n"
    }
   }
  },
  {
   "cell_type": "code",
   "execution_count": 18,
   "outputs": [
    {
     "data": {
      "text/plain": "     Duration  Pulse  Maxpulse  Calories\n0          60    110       130     409.1\n1          60    117       145     479.0\n2          60    103       135     340.0\n3          45    109       175     282.4\n4          45    117       148     406.0\n..        ...    ...       ...       ...\n164        60    105       140     290.8\n165        60    110       145     300.0\n166        60    115       145     310.2\n167        75    120       150     320.4\n168        75    125       150     330.4\n\n[169 rows x 4 columns]",
      "text/html": "<div>\n<style scoped>\n    .dataframe tbody tr th:only-of-type {\n        vertical-align: middle;\n    }\n\n    .dataframe tbody tr th {\n        vertical-align: top;\n    }\n\n    .dataframe thead th {\n        text-align: right;\n    }\n</style>\n<table border=\"1\" class=\"dataframe\">\n  <thead>\n    <tr style=\"text-align: right;\">\n      <th></th>\n      <th>Duration</th>\n      <th>Pulse</th>\n      <th>Maxpulse</th>\n      <th>Calories</th>\n    </tr>\n  </thead>\n  <tbody>\n    <tr>\n      <th>0</th>\n      <td>60</td>\n      <td>110</td>\n      <td>130</td>\n      <td>409.1</td>\n    </tr>\n    <tr>\n      <th>1</th>\n      <td>60</td>\n      <td>117</td>\n      <td>145</td>\n      <td>479.0</td>\n    </tr>\n    <tr>\n      <th>2</th>\n      <td>60</td>\n      <td>103</td>\n      <td>135</td>\n      <td>340.0</td>\n    </tr>\n    <tr>\n      <th>3</th>\n      <td>45</td>\n      <td>109</td>\n      <td>175</td>\n      <td>282.4</td>\n    </tr>\n    <tr>\n      <th>4</th>\n      <td>45</td>\n      <td>117</td>\n      <td>148</td>\n      <td>406.0</td>\n    </tr>\n    <tr>\n      <th>...</th>\n      <td>...</td>\n      <td>...</td>\n      <td>...</td>\n      <td>...</td>\n    </tr>\n    <tr>\n      <th>164</th>\n      <td>60</td>\n      <td>105</td>\n      <td>140</td>\n      <td>290.8</td>\n    </tr>\n    <tr>\n      <th>165</th>\n      <td>60</td>\n      <td>110</td>\n      <td>145</td>\n      <td>300.0</td>\n    </tr>\n    <tr>\n      <th>166</th>\n      <td>60</td>\n      <td>115</td>\n      <td>145</td>\n      <td>310.2</td>\n    </tr>\n    <tr>\n      <th>167</th>\n      <td>75</td>\n      <td>120</td>\n      <td>150</td>\n      <td>320.4</td>\n    </tr>\n    <tr>\n      <th>168</th>\n      <td>75</td>\n      <td>125</td>\n      <td>150</td>\n      <td>330.4</td>\n    </tr>\n  </tbody>\n</table>\n<p>169 rows × 4 columns</p>\n</div>"
     },
     "execution_count": 18,
     "metadata": {},
     "output_type": "execute_result"
    }
   ],
   "source": [
    "data_df = pd.read_csv('data.csv')\n",
    "data_df"
   ],
   "metadata": {
    "collapsed": false,
    "pycharm": {
     "name": "#%%\n"
    }
   }
  },
  {
   "cell_type": "code",
   "execution_count": 19,
   "outputs": [
    {
     "data": {
      "text/plain": "'     Duration  Pulse  Maxpulse  Calories\\n0          60    110       130     409.1\\n1          60    117       145     479.0\\n2          60    103       135     340.0\\n3          45    109       175     282.4\\n4          45    117       148     406.0\\n5          60    102       127     300.0\\n6          60    110       136     374.0\\n7          45    104       134     253.3\\n8          30    109       133     195.1\\n9          60     98       124     269.0\\n10         60    103       147     329.3\\n11         60    100       120     250.7\\n12         60    106       128     345.3\\n13         60    104       132     379.3\\n14         60     98       123     275.0\\n15         60     98       120     215.2\\n16         60    100       120     300.0\\n17         45     90       112       NaN\\n18         60    103       123     323.0\\n19         45     97       125     243.0\\n20         60    108       131     364.2\\n21         45    100       119     282.0\\n22         60    130       101     300.0\\n23         45    105       132     246.0\\n24         60    102       126     334.5\\n25         60    100       120     250.0\\n26         60     92       118     241.0\\n27         60    103       132       NaN\\n28         60    100       132     280.0\\n29         60    102       129     380.3\\n30         60     92       115     243.0\\n31         45     90       112     180.1\\n32         60    101       124     299.0\\n33         60     93       113     223.0\\n34         60    107       136     361.0\\n35         60    114       140     415.0\\n36         60    102       127     300.0\\n37         60    100       120     300.0\\n38         60    100       120     300.0\\n39         45    104       129     266.0\\n40         45     90       112     180.1\\n41         60     98       126     286.0\\n42         60    100       122     329.4\\n43         60    111       138     400.0\\n44         60    111       131     397.0\\n45         60     99       119     273.0\\n46         60    109       153     387.6\\n47         45    111       136     300.0\\n48         45    108       129     298.0\\n49         60    111       139     397.6\\n50         60    107       136     380.2\\n51         80    123       146     643.1\\n52         60    106       130     263.0\\n53         60    118       151     486.0\\n54         30    136       175     238.0\\n55         60    121       146     450.7\\n56         60    118       121     413.0\\n57         45    115       144     305.0\\n58         20    153       172     226.4\\n59         45    123       152     321.0\\n60        210    108       160    1376.0\\n61        160    110       137    1034.4\\n62        160    109       135     853.0\\n63         45    118       141     341.0\\n64         20    110       130     131.4\\n65        180     90       130     800.4\\n66        150    105       135     873.4\\n67        150    107       130     816.0\\n68         20    106       136     110.4\\n69        300    108       143    1500.2\\n70        150     97       129    1115.0\\n71         60    109       153     387.6\\n72         90    100       127     700.0\\n73        150     97       127     953.2\\n74         45    114       146     304.0\\n75         90     98       125     563.2\\n76         45    105       134     251.0\\n77         45    110       141     300.0\\n78        120    100       130     500.4\\n79        270    100       131    1729.0\\n80         30    159       182     319.2\\n81         45    149       169     344.0\\n82         30    103       139     151.1\\n83        120    100       130     500.0\\n84         45    100       120     225.3\\n85         30    151       170     300.0\\n86         45    102       136     234.0\\n87        120    100       157    1000.1\\n88         45    129       103     242.0\\n89         20     83       107      50.3\\n90        180    101       127     600.1\\n91         45    107       137       NaN\\n92         30     90       107     105.3\\n93         15     80       100      50.5\\n94         20    150       171     127.4\\n95         20    151       168     229.4\\n96         30     95       128     128.2\\n97         25    152       168     244.2\\n98         30    109       131     188.2\\n99         90     93       124     604.1\\n100        20     95       112      77.7\\n101        90     90       110     500.0\\n102        90     90       100     500.0\\n103        90     90       100     500.4\\n104        30     92       108      92.7\\n105        30     93       128     124.0\\n106       180     90       120     800.3\\n107        30     90       120      86.2\\n108        90     90       120     500.3\\n109       210    137       184    1860.4\\n110        60    102       124     325.2\\n111        45    107       124     275.0\\n112        15    124       139     124.2\\n113        45    100       120     225.3\\n114        60    108       131     367.6\\n115        60    108       151     351.7\\n116        60    116       141     443.0\\n117        60     97       122     277.4\\n118        60    105       125       NaN\\n119        60    103       124     332.7\\n120        30    112       137     193.9\\n121        45    100       120     100.7\\n122        60    119       169     336.7\\n123        60    107       127     344.9\\n124        60    111       151     368.5\\n125        60     98       122     271.0\\n126        60     97       124     275.3\\n127        60    109       127     382.0\\n128        90     99       125     466.4\\n129        60    114       151     384.0\\n130        60    104       134     342.5\\n131        60    107       138     357.5\\n132        60    103       133     335.0\\n133        60    106       132     327.5\\n134        60    103       136     339.0\\n135        20    136       156     189.0\\n136        45    117       143     317.7\\n137        45    115       137     318.0\\n138        45    113       138     308.0\\n139        20    141       162     222.4\\n140        60    108       135     390.0\\n141        60     97       127       NaN\\n142        45    100       120     250.4\\n143        45    122       149     335.4\\n144        60    136       170     470.2\\n145        45    106       126     270.8\\n146        60    107       136     400.0\\n147        60    112       146     361.9\\n148        30    103       127     185.0\\n149        60    110       150     409.4\\n150        60    106       134     343.0\\n151        60    109       129     353.2\\n152        60    109       138     374.0\\n153        30    150       167     275.8\\n154        60    105       128     328.0\\n155        60    111       151     368.5\\n156        60     97       131     270.4\\n157        60    100       120     270.4\\n158        60    114       150     382.8\\n159        30     80       120     240.9\\n160        30     85       120     250.4\\n161        45     90       130     260.4\\n162        45     95       130     270.0\\n163        45    100       140     280.9\\n164        60    105       140     290.8\\n165        60    110       145     300.0\\n166        60    115       145     310.2\\n167        75    120       150     320.4\\n168        75    125       150     330.4'"
     },
     "execution_count": 19,
     "metadata": {},
     "output_type": "execute_result"
    }
   ],
   "source": [
    "data_df.to_string()"
   ],
   "metadata": {
    "collapsed": false,
    "pycharm": {
     "name": "#%%\n"
    }
   }
  },
  {
   "cell_type": "code",
   "execution_count": 25,
   "outputs": [
    {
     "data": {
      "text/plain": "   Duration  Pulse  Maxpulse  Calories\n0        60    110       130     409.1\n1        60    117       145     479.0\n2        60    103       135     340.0",
      "text/html": "<div>\n<style scoped>\n    .dataframe tbody tr th:only-of-type {\n        vertical-align: middle;\n    }\n\n    .dataframe tbody tr th {\n        vertical-align: top;\n    }\n\n    .dataframe thead th {\n        text-align: right;\n    }\n</style>\n<table border=\"1\" class=\"dataframe\">\n  <thead>\n    <tr style=\"text-align: right;\">\n      <th></th>\n      <th>Duration</th>\n      <th>Pulse</th>\n      <th>Maxpulse</th>\n      <th>Calories</th>\n    </tr>\n  </thead>\n  <tbody>\n    <tr>\n      <th>0</th>\n      <td>60</td>\n      <td>110</td>\n      <td>130</td>\n      <td>409.1</td>\n    </tr>\n    <tr>\n      <th>1</th>\n      <td>60</td>\n      <td>117</td>\n      <td>145</td>\n      <td>479.0</td>\n    </tr>\n    <tr>\n      <th>2</th>\n      <td>60</td>\n      <td>103</td>\n      <td>135</td>\n      <td>340.0</td>\n    </tr>\n  </tbody>\n</table>\n</div>"
     },
     "execution_count": 25,
     "metadata": {},
     "output_type": "execute_result"
    }
   ],
   "source": [
    "data_df.loc[[0,2]]\n",
    "data_df.loc[0:2]"
   ],
   "metadata": {
    "collapsed": false,
    "pycharm": {
     "name": "#%%\n"
    }
   }
  },
  {
   "cell_type": "markdown",
   "source": [
    "# max_rows\n",
    "> ---\n",
    "> - The number of rows returned is defined in Pandas option settings.\n",
    "> - Let  number is 60, which means that if the DataFrame contains more than 60 rows, the print(df) statement will return only the headers and the first and last 5 rows.\n",
    "> - You can change the maximum rows number with the same statement.\n",
    "> - We can Increase the max number of rows to display the entire DataFrame: pd.options.display.max_rows = 9999\n",
    "> ---"
   ],
   "metadata": {
    "collapsed": false,
    "pycharm": {
     "name": "#%% md\n"
    }
   }
  },
  {
   "cell_type": "code",
   "execution_count": 26,
   "outputs": [
    {
     "data": {
      "text/plain": "60"
     },
     "execution_count": 26,
     "metadata": {},
     "output_type": "execute_result"
    }
   ],
   "source": [
    "pd.options.display.max_rows"
   ],
   "metadata": {
    "collapsed": false,
    "pycharm": {
     "name": "#%%\n"
    }
   }
  },
  {
   "cell_type": "markdown",
   "source": [
    "# Read JSON\n",
    "> ---\n",
    "> - JSON is plain text, but has the format of an object, and is well known in the world of programming, including Panda\n",
    "> ---"
   ],
   "metadata": {
    "collapsed": false,
    "pycharm": {
     "name": "#%% md\n"
    }
   }
  },
  {
   "cell_type": "markdown",
   "source": [],
   "metadata": {
    "collapsed": false,
    "pycharm": {
     "name": "#%% md\n"
    }
   }
  },
  {
   "cell_type": "code",
   "execution_count": 28,
   "outputs": [
    {
     "data": {
      "text/plain": "     Duration  Pulse  Maxpulse  Calories\n0          60    110       130     409.1\n1          60    117       145     479.0\n2          60    103       135     340.0\n3          45    109       175     282.4\n4          45    117       148     406.0\n..        ...    ...       ...       ...\n164        60    105       140     290.8\n165        60    110       145     300.4\n166        60    115       145     310.2\n167        75    120       150     320.4\n168        75    125       150     330.4\n\n[169 rows x 4 columns]",
      "text/html": "<div>\n<style scoped>\n    .dataframe tbody tr th:only-of-type {\n        vertical-align: middle;\n    }\n\n    .dataframe tbody tr th {\n        vertical-align: top;\n    }\n\n    .dataframe thead th {\n        text-align: right;\n    }\n</style>\n<table border=\"1\" class=\"dataframe\">\n  <thead>\n    <tr style=\"text-align: right;\">\n      <th></th>\n      <th>Duration</th>\n      <th>Pulse</th>\n      <th>Maxpulse</th>\n      <th>Calories</th>\n    </tr>\n  </thead>\n  <tbody>\n    <tr>\n      <th>0</th>\n      <td>60</td>\n      <td>110</td>\n      <td>130</td>\n      <td>409.1</td>\n    </tr>\n    <tr>\n      <th>1</th>\n      <td>60</td>\n      <td>117</td>\n      <td>145</td>\n      <td>479.0</td>\n    </tr>\n    <tr>\n      <th>2</th>\n      <td>60</td>\n      <td>103</td>\n      <td>135</td>\n      <td>340.0</td>\n    </tr>\n    <tr>\n      <th>3</th>\n      <td>45</td>\n      <td>109</td>\n      <td>175</td>\n      <td>282.4</td>\n    </tr>\n    <tr>\n      <th>4</th>\n      <td>45</td>\n      <td>117</td>\n      <td>148</td>\n      <td>406.0</td>\n    </tr>\n    <tr>\n      <th>...</th>\n      <td>...</td>\n      <td>...</td>\n      <td>...</td>\n      <td>...</td>\n    </tr>\n    <tr>\n      <th>164</th>\n      <td>60</td>\n      <td>105</td>\n      <td>140</td>\n      <td>290.8</td>\n    </tr>\n    <tr>\n      <th>165</th>\n      <td>60</td>\n      <td>110</td>\n      <td>145</td>\n      <td>300.4</td>\n    </tr>\n    <tr>\n      <th>166</th>\n      <td>60</td>\n      <td>115</td>\n      <td>145</td>\n      <td>310.2</td>\n    </tr>\n    <tr>\n      <th>167</th>\n      <td>75</td>\n      <td>120</td>\n      <td>150</td>\n      <td>320.4</td>\n    </tr>\n    <tr>\n      <th>168</th>\n      <td>75</td>\n      <td>125</td>\n      <td>150</td>\n      <td>330.4</td>\n    </tr>\n  </tbody>\n</table>\n<p>169 rows × 4 columns</p>\n</div>"
     },
     "execution_count": 28,
     "metadata": {},
     "output_type": "execute_result"
    }
   ],
   "source": [
    "df_jsn = pd.read_json(\"data.json\")\n",
    "df_jsn"
   ],
   "metadata": {
    "collapsed": false,
    "pycharm": {
     "name": "#%%\n"
    }
   }
  },
  {
   "cell_type": "markdown",
   "source": [
    "# Dictionary as JSON\n",
    "> ---\n",
    "> - JSON = Python Dictionary\n",
    "> - JSON objects have the same format as Python dictionaries.\n",
    "> - If your JSON code is not in a file, but in a Python Dictionary, you can load it into a DataFrame directly:\n",
    "> ---"
   ],
   "metadata": {
    "collapsed": false,
    "pycharm": {
     "name": "#%% md\n"
    }
   }
  },
  {
   "cell_type": "code",
   "execution_count": 38,
   "outputs": [
    {
     "data": {
      "text/plain": "   day1  day2  day3\n0   400   500   600",
      "text/html": "<div>\n<style scoped>\n    .dataframe tbody tr th:only-of-type {\n        vertical-align: middle;\n    }\n\n    .dataframe tbody tr th {\n        vertical-align: top;\n    }\n\n    .dataframe thead th {\n        text-align: right;\n    }\n</style>\n<table border=\"1\" class=\"dataframe\">\n  <thead>\n    <tr style=\"text-align: right;\">\n      <th></th>\n      <th>day1</th>\n      <th>day2</th>\n      <th>day3</th>\n    </tr>\n  </thead>\n  <tbody>\n    <tr>\n      <th>0</th>\n      <td>400</td>\n      <td>500</td>\n      <td>600</td>\n    </tr>\n  </tbody>\n</table>\n</div>"
     },
     "execution_count": 38,
     "metadata": {},
     "output_type": "execute_result"
    }
   ],
   "source": [
    "data_x = {\"day1\": {\"0\":400}, \"day2\": {\"0\":500}, \"day3\": {\"0\":600}}\n",
    "df_dj = pd.DataFrame(data_x)\n",
    "df_dj"
   ],
   "metadata": {
    "collapsed": false,
    "pycharm": {
     "name": "#%%\n"
    }
   }
  },
  {
   "cell_type": "code",
   "execution_count": 33,
   "outputs": [
    {
     "data": {
      "text/plain": "   Duration  Pulse  Maxpulse  Calories\n0        60    110       130       409\n1        60    117       145       479\n2        60    103       135       340\n3        45    109       175       282\n4        45    117       148       406\n5        60    102       127       300",
      "text/html": "<div>\n<style scoped>\n    .dataframe tbody tr th:only-of-type {\n        vertical-align: middle;\n    }\n\n    .dataframe tbody tr th {\n        vertical-align: top;\n    }\n\n    .dataframe thead th {\n        text-align: right;\n    }\n</style>\n<table border=\"1\" class=\"dataframe\">\n  <thead>\n    <tr style=\"text-align: right;\">\n      <th></th>\n      <th>Duration</th>\n      <th>Pulse</th>\n      <th>Maxpulse</th>\n      <th>Calories</th>\n    </tr>\n  </thead>\n  <tbody>\n    <tr>\n      <th>0</th>\n      <td>60</td>\n      <td>110</td>\n      <td>130</td>\n      <td>409</td>\n    </tr>\n    <tr>\n      <th>1</th>\n      <td>60</td>\n      <td>117</td>\n      <td>145</td>\n      <td>479</td>\n    </tr>\n    <tr>\n      <th>2</th>\n      <td>60</td>\n      <td>103</td>\n      <td>135</td>\n      <td>340</td>\n    </tr>\n    <tr>\n      <th>3</th>\n      <td>45</td>\n      <td>109</td>\n      <td>175</td>\n      <td>282</td>\n    </tr>\n    <tr>\n      <th>4</th>\n      <td>45</td>\n      <td>117</td>\n      <td>148</td>\n      <td>406</td>\n    </tr>\n    <tr>\n      <th>5</th>\n      <td>60</td>\n      <td>102</td>\n      <td>127</td>\n      <td>300</td>\n    </tr>\n  </tbody>\n</table>\n</div>"
     },
     "execution_count": 33,
     "metadata": {},
     "output_type": "execute_result"
    }
   ],
   "source": [
    "data_1 = {\n",
    "    \"Duration\":{\n",
    "        \"0\":60,\"1\":60,\"2\":60,\"3\":45,\"4\":45,\"5\":60\n",
    "    },\n",
    "    \"Pulse\":{\n",
    "        \"0\":110,\"1\":117,\"2\":103,\"3\":109,\"4\":117,\"5\":102\n",
    "    },\n",
    "    \"Maxpulse\":{\n",
    "        \"0\":130,\"1\":145,\"2\":135,\"3\":175,\"4\":148,\"5\":127\n",
    "    },\n",
    "    \"Calories\":{\n",
    "        \"0\":409,\"1\":479,\"2\":340,\"3\":282,\"4\":406,\"5\":300\n",
    "    }\n",
    "}\n",
    "\n",
    "df_dj = pd.DataFrame(data_1)\n",
    "df_dj"
   ],
   "metadata": {
    "collapsed": false,
    "pycharm": {
     "name": "#%%\n"
    }
   }
  },
  {
   "cell_type": "markdown",
   "source": [
    "# Info About the Data\n",
    "> ---\n",
    "> - The DataFrames object has a method called info(), that gives you more information about the data set.\n",
    "> ---"
   ],
   "metadata": {
    "collapsed": false,
    "pycharm": {
     "name": "#%% md\n"
    }
   }
  },
  {
   "cell_type": "code",
   "execution_count": 40,
   "outputs": [
    {
     "name": "stdout",
     "output_type": "stream",
     "text": [
      "<class 'pandas.core.frame.DataFrame'>\n",
      "Int64Index: 169 entries, 0 to 168\n",
      "Data columns (total 4 columns):\n",
      " #   Column    Non-Null Count  Dtype  \n",
      "---  ------    --------------  -----  \n",
      " 0   Duration  169 non-null    int64  \n",
      " 1   Pulse     169 non-null    int64  \n",
      " 2   Maxpulse  169 non-null    int64  \n",
      " 3   Calories  164 non-null    float64\n",
      "dtypes: float64(1), int64(3)\n",
      "memory usage: 6.6 KB\n"
     ]
    }
   ],
   "source": [
    "df_jsn.info()"
   ],
   "metadata": {
    "collapsed": false,
    "pycharm": {
     "name": "#%%\n"
    }
   }
  },
  {
   "cell_type": "code",
   "execution_count": 42,
   "outputs": [
    {
     "data": {
      "text/plain": "     Duration  Pulse  Maxpulse  Calories\n0          60    110       130     409.1\n1          60    117       145     479.0\n2          60    103       135     340.0\n3          45    109       175     282.4\n4          45    117       148     406.0\n..        ...    ...       ...       ...\n164        60    105       140     290.8\n165        60    110       145     300.0\n166        60    115       145     310.2\n167        75    120       150     320.4\n168        75    125       150     330.4\n\n[169 rows x 4 columns]",
      "text/html": "<div>\n<style scoped>\n    .dataframe tbody tr th:only-of-type {\n        vertical-align: middle;\n    }\n\n    .dataframe tbody tr th {\n        vertical-align: top;\n    }\n\n    .dataframe thead th {\n        text-align: right;\n    }\n</style>\n<table border=\"1\" class=\"dataframe\">\n  <thead>\n    <tr style=\"text-align: right;\">\n      <th></th>\n      <th>Duration</th>\n      <th>Pulse</th>\n      <th>Maxpulse</th>\n      <th>Calories</th>\n    </tr>\n  </thead>\n  <tbody>\n    <tr>\n      <th>0</th>\n      <td>60</td>\n      <td>110</td>\n      <td>130</td>\n      <td>409.1</td>\n    </tr>\n    <tr>\n      <th>1</th>\n      <td>60</td>\n      <td>117</td>\n      <td>145</td>\n      <td>479.0</td>\n    </tr>\n    <tr>\n      <th>2</th>\n      <td>60</td>\n      <td>103</td>\n      <td>135</td>\n      <td>340.0</td>\n    </tr>\n    <tr>\n      <th>3</th>\n      <td>45</td>\n      <td>109</td>\n      <td>175</td>\n      <td>282.4</td>\n    </tr>\n    <tr>\n      <th>4</th>\n      <td>45</td>\n      <td>117</td>\n      <td>148</td>\n      <td>406.0</td>\n    </tr>\n    <tr>\n      <th>...</th>\n      <td>...</td>\n      <td>...</td>\n      <td>...</td>\n      <td>...</td>\n    </tr>\n    <tr>\n      <th>164</th>\n      <td>60</td>\n      <td>105</td>\n      <td>140</td>\n      <td>290.8</td>\n    </tr>\n    <tr>\n      <th>165</th>\n      <td>60</td>\n      <td>110</td>\n      <td>145</td>\n      <td>300.0</td>\n    </tr>\n    <tr>\n      <th>166</th>\n      <td>60</td>\n      <td>115</td>\n      <td>145</td>\n      <td>310.2</td>\n    </tr>\n    <tr>\n      <th>167</th>\n      <td>75</td>\n      <td>120</td>\n      <td>150</td>\n      <td>320.4</td>\n    </tr>\n    <tr>\n      <th>168</th>\n      <td>75</td>\n      <td>125</td>\n      <td>150</td>\n      <td>330.4</td>\n    </tr>\n  </tbody>\n</table>\n<p>169 rows × 4 columns</p>\n</div>"
     },
     "execution_count": 42,
     "metadata": {},
     "output_type": "execute_result"
    }
   ],
   "source": [
    "data_cl = pd.read_csv('data.csv')\n",
    "data_cl"
   ],
   "metadata": {
    "collapsed": false,
    "pycharm": {
     "name": "#%%\n"
    }
   }
  },
  {
   "cell_type": "markdown",
   "source": [
    "# Remove rows with empty cell\n",
    "> ---\n",
    "> - <span style=\"color:green ; font-size:30px\"> dropna( ) </span> is used to remove rows with empty cell\n",
    "> - it returns a new DF doesn't affect original data set\n",
    "> - <span style=\"color:green ; font-size:30px\">inplace = True argument</span> then changes will inplace\n",
    "> ---"
   ],
   "metadata": {
    "collapsed": false,
    "pycharm": {
     "name": "#%% md\n"
    }
   }
  },
  {
   "cell_type": "code",
   "execution_count": 44,
   "outputs": [
    {
     "name": "stdout",
     "output_type": "stream",
     "text": [
      "<class 'pandas.core.frame.DataFrame'>\n",
      "Int64Index: 164 entries, 0 to 168\n",
      "Data columns (total 4 columns):\n",
      " #   Column    Non-Null Count  Dtype  \n",
      "---  ------    --------------  -----  \n",
      " 0   Duration  164 non-null    int64  \n",
      " 1   Pulse     164 non-null    int64  \n",
      " 2   Maxpulse  164 non-null    int64  \n",
      " 3   Calories  164 non-null    float64\n",
      "dtypes: float64(1), int64(3)\n",
      "memory usage: 6.4 KB\n"
     ]
    }
   ],
   "source": [
    "df_nonl = data_cl.dropna()\n",
    "df_nonl.info()"
   ],
   "metadata": {
    "collapsed": false,
    "pycharm": {
     "name": "#%%\n"
    }
   }
  },
  {
   "cell_type": "markdown",
   "source": [
    "# Replace Empty Values\n",
    "> ---\n",
    "> - <span style=\"color:green ; font-size:30px\"> fillna() </span> is used to replace empty values\n",
    "> - This inserts a new value instead\n",
    "> ---"
   ],
   "metadata": {
    "collapsed": false,
    "pycharm": {
     "name": "#%% md\n"
    }
   }
  },
  {
   "cell_type": "code",
   "execution_count": 45,
   "outputs": [
    {
     "name": "stdout",
     "output_type": "stream",
     "text": [
      "<class 'pandas.core.frame.DataFrame'>\n",
      "RangeIndex: 169 entries, 0 to 168\n",
      "Data columns (total 4 columns):\n",
      " #   Column    Non-Null Count  Dtype  \n",
      "---  ------    --------------  -----  \n",
      " 0   Duration  169 non-null    int64  \n",
      " 1   Pulse     169 non-null    int64  \n",
      " 2   Maxpulse  169 non-null    int64  \n",
      " 3   Calories  164 non-null    float64\n",
      "dtypes: float64(1), int64(3)\n",
      "memory usage: 5.4 KB\n"
     ]
    }
   ],
   "source": [
    "data_cl.info()"
   ],
   "metadata": {
    "collapsed": false,
    "pycharm": {
     "name": "#%%\n"
    }
   }
  },
  {
   "cell_type": "code",
   "execution_count": 46,
   "outputs": [
    {
     "name": "stdout",
     "output_type": "stream",
     "text": [
      "<class 'pandas.core.frame.DataFrame'>\n",
      "RangeIndex: 169 entries, 0 to 168\n",
      "Data columns (total 4 columns):\n",
      " #   Column    Non-Null Count  Dtype  \n",
      "---  ------    --------------  -----  \n",
      " 0   Duration  169 non-null    int64  \n",
      " 1   Pulse     169 non-null    int64  \n",
      " 2   Maxpulse  169 non-null    int64  \n",
      " 3   Calories  169 non-null    float64\n",
      "dtypes: float64(1), int64(3)\n",
      "memory usage: 5.4 KB\n"
     ]
    }
   ],
   "source": [
    "data_cl.fillna(130 , inplace = True)\n",
    "data_cl.info()"
   ],
   "metadata": {
    "collapsed": false,
    "pycharm": {
     "name": "#%%\n"
    }
   }
  },
  {
   "cell_type": "markdown",
   "source": [
    "# Replace Only For Specified Columns\n",
    "> ---\n",
    "> - To only replace empty values for one column, specify the column name for the DataFrame\n",
    "> ---"
   ],
   "metadata": {
    "collapsed": false,
    "pycharm": {
     "name": "#%% md\n"
    }
   }
  },
  {
   "cell_type": "code",
   "execution_count": 48,
   "outputs": [
    {
     "data": {
      "text/plain": "     Duration  Pulse  Maxpulse  Calories\n0          60    110       130     409.1\n1          60    117       145     479.0\n2          60    103       135     340.0\n3          45    109       175     282.4\n4          45    117       148     406.0\n..        ...    ...       ...       ...\n164        60    105       140     290.8\n165        60    110       145     300.0\n166        60    115       145     310.2\n167        75    120       150     320.4\n168        75    125       150     330.4\n\n[169 rows x 4 columns]",
      "text/html": "<div>\n<style scoped>\n    .dataframe tbody tr th:only-of-type {\n        vertical-align: middle;\n    }\n\n    .dataframe tbody tr th {\n        vertical-align: top;\n    }\n\n    .dataframe thead th {\n        text-align: right;\n    }\n</style>\n<table border=\"1\" class=\"dataframe\">\n  <thead>\n    <tr style=\"text-align: right;\">\n      <th></th>\n      <th>Duration</th>\n      <th>Pulse</th>\n      <th>Maxpulse</th>\n      <th>Calories</th>\n    </tr>\n  </thead>\n  <tbody>\n    <tr>\n      <th>0</th>\n      <td>60</td>\n      <td>110</td>\n      <td>130</td>\n      <td>409.1</td>\n    </tr>\n    <tr>\n      <th>1</th>\n      <td>60</td>\n      <td>117</td>\n      <td>145</td>\n      <td>479.0</td>\n    </tr>\n    <tr>\n      <th>2</th>\n      <td>60</td>\n      <td>103</td>\n      <td>135</td>\n      <td>340.0</td>\n    </tr>\n    <tr>\n      <th>3</th>\n      <td>45</td>\n      <td>109</td>\n      <td>175</td>\n      <td>282.4</td>\n    </tr>\n    <tr>\n      <th>4</th>\n      <td>45</td>\n      <td>117</td>\n      <td>148</td>\n      <td>406.0</td>\n    </tr>\n    <tr>\n      <th>...</th>\n      <td>...</td>\n      <td>...</td>\n      <td>...</td>\n      <td>...</td>\n    </tr>\n    <tr>\n      <th>164</th>\n      <td>60</td>\n      <td>105</td>\n      <td>140</td>\n      <td>290.8</td>\n    </tr>\n    <tr>\n      <th>165</th>\n      <td>60</td>\n      <td>110</td>\n      <td>145</td>\n      <td>300.0</td>\n    </tr>\n    <tr>\n      <th>166</th>\n      <td>60</td>\n      <td>115</td>\n      <td>145</td>\n      <td>310.2</td>\n    </tr>\n    <tr>\n      <th>167</th>\n      <td>75</td>\n      <td>120</td>\n      <td>150</td>\n      <td>320.4</td>\n    </tr>\n    <tr>\n      <th>168</th>\n      <td>75</td>\n      <td>125</td>\n      <td>150</td>\n      <td>330.4</td>\n    </tr>\n  </tbody>\n</table>\n<p>169 rows × 4 columns</p>\n</div>"
     },
     "execution_count": 48,
     "metadata": {},
     "output_type": "execute_result"
    }
   ],
   "source": [
    "df = pd.read_csv('data.csv')\n",
    "df[\"Calories\"].fillna(145,inplace=True)\n",
    "df"
   ],
   "metadata": {
    "collapsed": false,
    "pycharm": {
     "name": "#%%\n"
    }
   }
  },
  {
   "cell_type": "markdown",
   "source": [
    "# Replace Using Mean, Median, or Mode\n",
    "> ---\n",
    "> - It is best to replace cells is by calculating the mean,Median,Mode of column\n",
    "> - Pandas uses<span style=\"color:green ; font-size:30px\"> mean( ) median( ) and mode( ) </span> methods to calculate\n",
    "> ---"
   ],
   "metadata": {
    "collapsed": false,
    "pycharm": {
     "name": "#%% md\n"
    }
   }
  },
  {
   "cell_type": "code",
   "execution_count": 50,
   "outputs": [
    {
     "data": {
      "text/plain": "    Duration  Pulse  Maxpulse  Calories\n0         60    110       130     409.1\n1         60    117       145     479.0\n2         60    103       135     340.0\n3         45    109       175     282.4\n4         45    117       148     406.0\n5         60    102       127     300.0\n6         60    110       136     374.0\n7         45    104       134     253.3\n8         30    109       133     195.1\n9         60     98       124     269.0\n10        60    103       147     329.3\n11        60    100       120     250.7\n12        60    106       128     345.3\n13        60    104       132     379.3\n14        60     98       123     275.0\n15        60     98       120     215.2\n16        60    100       120     300.0\n17        45     90       112       NaN",
      "text/html": "<div>\n<style scoped>\n    .dataframe tbody tr th:only-of-type {\n        vertical-align: middle;\n    }\n\n    .dataframe tbody tr th {\n        vertical-align: top;\n    }\n\n    .dataframe thead th {\n        text-align: right;\n    }\n</style>\n<table border=\"1\" class=\"dataframe\">\n  <thead>\n    <tr style=\"text-align: right;\">\n      <th></th>\n      <th>Duration</th>\n      <th>Pulse</th>\n      <th>Maxpulse</th>\n      <th>Calories</th>\n    </tr>\n  </thead>\n  <tbody>\n    <tr>\n      <th>0</th>\n      <td>60</td>\n      <td>110</td>\n      <td>130</td>\n      <td>409.1</td>\n    </tr>\n    <tr>\n      <th>1</th>\n      <td>60</td>\n      <td>117</td>\n      <td>145</td>\n      <td>479.0</td>\n    </tr>\n    <tr>\n      <th>2</th>\n      <td>60</td>\n      <td>103</td>\n      <td>135</td>\n      <td>340.0</td>\n    </tr>\n    <tr>\n      <th>3</th>\n      <td>45</td>\n      <td>109</td>\n      <td>175</td>\n      <td>282.4</td>\n    </tr>\n    <tr>\n      <th>4</th>\n      <td>45</td>\n      <td>117</td>\n      <td>148</td>\n      <td>406.0</td>\n    </tr>\n    <tr>\n      <th>5</th>\n      <td>60</td>\n      <td>102</td>\n      <td>127</td>\n      <td>300.0</td>\n    </tr>\n    <tr>\n      <th>6</th>\n      <td>60</td>\n      <td>110</td>\n      <td>136</td>\n      <td>374.0</td>\n    </tr>\n    <tr>\n      <th>7</th>\n      <td>45</td>\n      <td>104</td>\n      <td>134</td>\n      <td>253.3</td>\n    </tr>\n    <tr>\n      <th>8</th>\n      <td>30</td>\n      <td>109</td>\n      <td>133</td>\n      <td>195.1</td>\n    </tr>\n    <tr>\n      <th>9</th>\n      <td>60</td>\n      <td>98</td>\n      <td>124</td>\n      <td>269.0</td>\n    </tr>\n    <tr>\n      <th>10</th>\n      <td>60</td>\n      <td>103</td>\n      <td>147</td>\n      <td>329.3</td>\n    </tr>\n    <tr>\n      <th>11</th>\n      <td>60</td>\n      <td>100</td>\n      <td>120</td>\n      <td>250.7</td>\n    </tr>\n    <tr>\n      <th>12</th>\n      <td>60</td>\n      <td>106</td>\n      <td>128</td>\n      <td>345.3</td>\n    </tr>\n    <tr>\n      <th>13</th>\n      <td>60</td>\n      <td>104</td>\n      <td>132</td>\n      <td>379.3</td>\n    </tr>\n    <tr>\n      <th>14</th>\n      <td>60</td>\n      <td>98</td>\n      <td>123</td>\n      <td>275.0</td>\n    </tr>\n    <tr>\n      <th>15</th>\n      <td>60</td>\n      <td>98</td>\n      <td>120</td>\n      <td>215.2</td>\n    </tr>\n    <tr>\n      <th>16</th>\n      <td>60</td>\n      <td>100</td>\n      <td>120</td>\n      <td>300.0</td>\n    </tr>\n    <tr>\n      <th>17</th>\n      <td>45</td>\n      <td>90</td>\n      <td>112</td>\n      <td>NaN</td>\n    </tr>\n  </tbody>\n</table>\n</div>"
     },
     "execution_count": 50,
     "metadata": {},
     "output_type": "execute_result"
    }
   ],
   "source": [
    "df = pd.read_csv('data.csv')\n",
    "df.head(18)"
   ],
   "metadata": {
    "collapsed": false,
    "pycharm": {
     "name": "#%%\n"
    }
   }
  },
  {
   "cell_type": "code",
   "execution_count": 52,
   "outputs": [
    {
     "data": {
      "text/plain": "375.79024390243904"
     },
     "execution_count": 52,
     "metadata": {},
     "output_type": "execute_result"
    }
   ],
   "source": [
    "calmean = df[\"Calories\"].mean()\n",
    "calmean"
   ],
   "metadata": {
    "collapsed": false,
    "pycharm": {
     "name": "#%%\n"
    }
   }
  },
  {
   "cell_type": "code",
   "execution_count": 53,
   "outputs": [
    {
     "data": {
      "text/plain": "    Duration  Pulse  Maxpulse    Calories\n0         60    110       130  409.100000\n1         60    117       145  479.000000\n2         60    103       135  340.000000\n3         45    109       175  282.400000\n4         45    117       148  406.000000\n5         60    102       127  300.000000\n6         60    110       136  374.000000\n7         45    104       134  253.300000\n8         30    109       133  195.100000\n9         60     98       124  269.000000\n10        60    103       147  329.300000\n11        60    100       120  250.700000\n12        60    106       128  345.300000\n13        60    104       132  379.300000\n14        60     98       123  275.000000\n15        60     98       120  215.200000\n16        60    100       120  300.000000\n17        45     90       112  375.790244",
      "text/html": "<div>\n<style scoped>\n    .dataframe tbody tr th:only-of-type {\n        vertical-align: middle;\n    }\n\n    .dataframe tbody tr th {\n        vertical-align: top;\n    }\n\n    .dataframe thead th {\n        text-align: right;\n    }\n</style>\n<table border=\"1\" class=\"dataframe\">\n  <thead>\n    <tr style=\"text-align: right;\">\n      <th></th>\n      <th>Duration</th>\n      <th>Pulse</th>\n      <th>Maxpulse</th>\n      <th>Calories</th>\n    </tr>\n  </thead>\n  <tbody>\n    <tr>\n      <th>0</th>\n      <td>60</td>\n      <td>110</td>\n      <td>130</td>\n      <td>409.100000</td>\n    </tr>\n    <tr>\n      <th>1</th>\n      <td>60</td>\n      <td>117</td>\n      <td>145</td>\n      <td>479.000000</td>\n    </tr>\n    <tr>\n      <th>2</th>\n      <td>60</td>\n      <td>103</td>\n      <td>135</td>\n      <td>340.000000</td>\n    </tr>\n    <tr>\n      <th>3</th>\n      <td>45</td>\n      <td>109</td>\n      <td>175</td>\n      <td>282.400000</td>\n    </tr>\n    <tr>\n      <th>4</th>\n      <td>45</td>\n      <td>117</td>\n      <td>148</td>\n      <td>406.000000</td>\n    </tr>\n    <tr>\n      <th>5</th>\n      <td>60</td>\n      <td>102</td>\n      <td>127</td>\n      <td>300.000000</td>\n    </tr>\n    <tr>\n      <th>6</th>\n      <td>60</td>\n      <td>110</td>\n      <td>136</td>\n      <td>374.000000</td>\n    </tr>\n    <tr>\n      <th>7</th>\n      <td>45</td>\n      <td>104</td>\n      <td>134</td>\n      <td>253.300000</td>\n    </tr>\n    <tr>\n      <th>8</th>\n      <td>30</td>\n      <td>109</td>\n      <td>133</td>\n      <td>195.100000</td>\n    </tr>\n    <tr>\n      <th>9</th>\n      <td>60</td>\n      <td>98</td>\n      <td>124</td>\n      <td>269.000000</td>\n    </tr>\n    <tr>\n      <th>10</th>\n      <td>60</td>\n      <td>103</td>\n      <td>147</td>\n      <td>329.300000</td>\n    </tr>\n    <tr>\n      <th>11</th>\n      <td>60</td>\n      <td>100</td>\n      <td>120</td>\n      <td>250.700000</td>\n    </tr>\n    <tr>\n      <th>12</th>\n      <td>60</td>\n      <td>106</td>\n      <td>128</td>\n      <td>345.300000</td>\n    </tr>\n    <tr>\n      <th>13</th>\n      <td>60</td>\n      <td>104</td>\n      <td>132</td>\n      <td>379.300000</td>\n    </tr>\n    <tr>\n      <th>14</th>\n      <td>60</td>\n      <td>98</td>\n      <td>123</td>\n      <td>275.000000</td>\n    </tr>\n    <tr>\n      <th>15</th>\n      <td>60</td>\n      <td>98</td>\n      <td>120</td>\n      <td>215.200000</td>\n    </tr>\n    <tr>\n      <th>16</th>\n      <td>60</td>\n      <td>100</td>\n      <td>120</td>\n      <td>300.000000</td>\n    </tr>\n    <tr>\n      <th>17</th>\n      <td>45</td>\n      <td>90</td>\n      <td>112</td>\n      <td>375.790244</td>\n    </tr>\n  </tbody>\n</table>\n</div>"
     },
     "execution_count": 53,
     "metadata": {},
     "output_type": "execute_result"
    }
   ],
   "source": [
    "df[\"Calories\"].fillna(calmean,inplace = True)\n",
    "df.head(18)"
   ],
   "metadata": {
    "collapsed": false,
    "pycharm": {
     "name": "#%%\n"
    }
   }
  },
  {
   "cell_type": "code",
   "execution_count": 55,
   "outputs": [
    {
     "data": {
      "text/plain": "0    300.0\nName: Calories, dtype: float64"
     },
     "execution_count": 55,
     "metadata": {},
     "output_type": "execute_result"
    }
   ],
   "source": [
    "df[\"Calories\"].mode()"
   ],
   "metadata": {
    "collapsed": false,
    "pycharm": {
     "name": "#%%\n"
    }
   }
  },
  {
   "cell_type": "code",
   "execution_count": 58,
   "outputs": [
    {
     "data": {
      "text/plain": "321.0"
     },
     "execution_count": 58,
     "metadata": {},
     "output_type": "execute_result"
    }
   ],
   "source": [
    "df[\"Calories\"].median()"
   ],
   "metadata": {
    "collapsed": false,
    "pycharm": {
     "name": "#%%\n"
    }
   }
  },
  {
   "cell_type": "markdown",
   "source": [
    "# Fixing Wrong Data"
   ],
   "metadata": {
    "collapsed": false,
    "pycharm": {
     "name": "#%% md\n"
    }
   }
  },
  {
   "cell_type": "markdown",
   "source": [
    "## Replacing Values\n",
    "> ---\n",
    "> - Way to fix wrong values is to replace them with something else.\n",
    "> - To replace wrong data for larger data sets you can create some rules\n",
    "> ---"
   ],
   "metadata": {
    "collapsed": false,
    "pycharm": {
     "name": "#%% md\n"
    }
   }
  },
  {
   "cell_type": "code",
   "execution_count": 61,
   "outputs": [
    {
     "data": {
      "text/plain": "   Duration  Pulse  Maxpulse  Calories\n0        60    110       130     409.1\n1        60    117       145     479.0\n2        60    103       135     340.0\n3        45    109       175     282.4\n4        90    117       148     406.0\n5        60    102       127     300.0\n6       760    110       136     374.0",
      "text/html": "<div>\n<style scoped>\n    .dataframe tbody tr th:only-of-type {\n        vertical-align: middle;\n    }\n\n    .dataframe tbody tr th {\n        vertical-align: top;\n    }\n\n    .dataframe thead th {\n        text-align: right;\n    }\n</style>\n<table border=\"1\" class=\"dataframe\">\n  <thead>\n    <tr style=\"text-align: right;\">\n      <th></th>\n      <th>Duration</th>\n      <th>Pulse</th>\n      <th>Maxpulse</th>\n      <th>Calories</th>\n    </tr>\n  </thead>\n  <tbody>\n    <tr>\n      <th>0</th>\n      <td>60</td>\n      <td>110</td>\n      <td>130</td>\n      <td>409.1</td>\n    </tr>\n    <tr>\n      <th>1</th>\n      <td>60</td>\n      <td>117</td>\n      <td>145</td>\n      <td>479.0</td>\n    </tr>\n    <tr>\n      <th>2</th>\n      <td>60</td>\n      <td>103</td>\n      <td>135</td>\n      <td>340.0</td>\n    </tr>\n    <tr>\n      <th>3</th>\n      <td>45</td>\n      <td>109</td>\n      <td>175</td>\n      <td>282.4</td>\n    </tr>\n    <tr>\n      <th>4</th>\n      <td>90</td>\n      <td>117</td>\n      <td>148</td>\n      <td>406.0</td>\n    </tr>\n    <tr>\n      <th>5</th>\n      <td>60</td>\n      <td>102</td>\n      <td>127</td>\n      <td>300.0</td>\n    </tr>\n    <tr>\n      <th>6</th>\n      <td>760</td>\n      <td>110</td>\n      <td>136</td>\n      <td>374.0</td>\n    </tr>\n  </tbody>\n</table>\n</div>"
     },
     "execution_count": 61,
     "metadata": {},
     "output_type": "execute_result"
    }
   ],
   "source": [
    "df = pd.read_csv('data.csv')\n",
    "df.head(7)"
   ],
   "metadata": {
    "collapsed": false,
    "pycharm": {
     "name": "#%%\n"
    }
   }
  },
  {
   "cell_type": "code",
   "execution_count": 62,
   "outputs": [
    {
     "data": {
      "text/plain": "Duration    760.0\nPulse       110.0\nMaxpulse    136.0\nCalories    374.0\nName: 6, dtype: float64"
     },
     "execution_count": 62,
     "metadata": {},
     "output_type": "execute_result"
    }
   ],
   "source": [
    "df.loc[6]"
   ],
   "metadata": {
    "collapsed": false,
    "pycharm": {
     "name": "#%%\n"
    }
   }
  },
  {
   "cell_type": "markdown",
   "source": [
    "> We can just replace 760 with 60"
   ],
   "metadata": {
    "collapsed": false,
    "pycharm": {
     "name": "#%% md\n"
    }
   }
  },
  {
   "cell_type": "code",
   "execution_count": 65,
   "outputs": [],
   "source": [
    "df.loc[6,'Duration']=60"
   ],
   "metadata": {
    "collapsed": false,
    "pycharm": {
     "name": "#%%\n"
    }
   }
  },
  {
   "cell_type": "code",
   "execution_count": 66,
   "outputs": [
    {
     "data": {
      "text/plain": "Duration     60.0\nPulse       110.0\nMaxpulse    136.0\nCalories    374.0\nName: 6, dtype: float64"
     },
     "execution_count": 66,
     "metadata": {},
     "output_type": "execute_result"
    }
   ],
   "source": [
    "df.loc[6]"
   ],
   "metadata": {
    "collapsed": false,
    "pycharm": {
     "name": "#%%\n"
    }
   }
  },
  {
   "cell_type": "code",
   "execution_count": 69,
   "outputs": [
    {
     "data": {
      "text/plain": "   Duration  Pulse  Maxpulse  Calories\n0        60    110       130     409.1\n1        60    117       145     479.0\n2        60    103       135     340.0\n3        45    109       175     282.4\n4        90    117       148     406.0\n5        60    102       127     300.0\n6       760    110       136     374.0",
      "text/html": "<div>\n<style scoped>\n    .dataframe tbody tr th:only-of-type {\n        vertical-align: middle;\n    }\n\n    .dataframe tbody tr th {\n        vertical-align: top;\n    }\n\n    .dataframe thead th {\n        text-align: right;\n    }\n</style>\n<table border=\"1\" class=\"dataframe\">\n  <thead>\n    <tr style=\"text-align: right;\">\n      <th></th>\n      <th>Duration</th>\n      <th>Pulse</th>\n      <th>Maxpulse</th>\n      <th>Calories</th>\n    </tr>\n  </thead>\n  <tbody>\n    <tr>\n      <th>0</th>\n      <td>60</td>\n      <td>110</td>\n      <td>130</td>\n      <td>409.1</td>\n    </tr>\n    <tr>\n      <th>1</th>\n      <td>60</td>\n      <td>117</td>\n      <td>145</td>\n      <td>479.0</td>\n    </tr>\n    <tr>\n      <th>2</th>\n      <td>60</td>\n      <td>103</td>\n      <td>135</td>\n      <td>340.0</td>\n    </tr>\n    <tr>\n      <th>3</th>\n      <td>45</td>\n      <td>109</td>\n      <td>175</td>\n      <td>282.4</td>\n    </tr>\n    <tr>\n      <th>4</th>\n      <td>90</td>\n      <td>117</td>\n      <td>148</td>\n      <td>406.0</td>\n    </tr>\n    <tr>\n      <th>5</th>\n      <td>60</td>\n      <td>102</td>\n      <td>127</td>\n      <td>300.0</td>\n    </tr>\n    <tr>\n      <th>6</th>\n      <td>760</td>\n      <td>110</td>\n      <td>136</td>\n      <td>374.0</td>\n    </tr>\n  </tbody>\n</table>\n</div>"
     },
     "execution_count": 69,
     "metadata": {},
     "output_type": "execute_result"
    }
   ],
   "source": [
    "df = pd.read_csv('data.csv')\n",
    "df.head(7)"
   ],
   "metadata": {
    "collapsed": false,
    "pycharm": {
     "name": "#%%\n"
    }
   }
  },
  {
   "cell_type": "code",
   "execution_count": 73,
   "outputs": [
    {
     "data": {
      "text/plain": "   Duration  Pulse  Maxpulse  Calories\n0        60    110       130     409.1\n1        60    117       145     479.0\n2        60    103       135     340.0\n3        45    109       175     282.4\n4        90    117       148     406.0\n5        60    102       127     300.0\n6       100    110       136     374.0",
      "text/html": "<div>\n<style scoped>\n    .dataframe tbody tr th:only-of-type {\n        vertical-align: middle;\n    }\n\n    .dataframe tbody tr th {\n        vertical-align: top;\n    }\n\n    .dataframe thead th {\n        text-align: right;\n    }\n</style>\n<table border=\"1\" class=\"dataframe\">\n  <thead>\n    <tr style=\"text-align: right;\">\n      <th></th>\n      <th>Duration</th>\n      <th>Pulse</th>\n      <th>Maxpulse</th>\n      <th>Calories</th>\n    </tr>\n  </thead>\n  <tbody>\n    <tr>\n      <th>0</th>\n      <td>60</td>\n      <td>110</td>\n      <td>130</td>\n      <td>409.1</td>\n    </tr>\n    <tr>\n      <th>1</th>\n      <td>60</td>\n      <td>117</td>\n      <td>145</td>\n      <td>479.0</td>\n    </tr>\n    <tr>\n      <th>2</th>\n      <td>60</td>\n      <td>103</td>\n      <td>135</td>\n      <td>340.0</td>\n    </tr>\n    <tr>\n      <th>3</th>\n      <td>45</td>\n      <td>109</td>\n      <td>175</td>\n      <td>282.4</td>\n    </tr>\n    <tr>\n      <th>4</th>\n      <td>90</td>\n      <td>117</td>\n      <td>148</td>\n      <td>406.0</td>\n    </tr>\n    <tr>\n      <th>5</th>\n      <td>60</td>\n      <td>102</td>\n      <td>127</td>\n      <td>300.0</td>\n    </tr>\n    <tr>\n      <th>6</th>\n      <td>100</td>\n      <td>110</td>\n      <td>136</td>\n      <td>374.0</td>\n    </tr>\n  </tbody>\n</table>\n</div>"
     },
     "execution_count": 73,
     "metadata": {},
     "output_type": "execute_result"
    }
   ],
   "source": [
    "for x in range(df.__len__()):\n",
    "    if df.loc[x,'Duration'] > 120:\n",
    "        df.loc[6,'Duration']=100\n",
    "df.head(7)"
   ],
   "metadata": {
    "collapsed": false,
    "pycharm": {
     "name": "#%%\n"
    }
   }
  },
  {
   "cell_type": "markdown",
   "source": [
    "# Remove rows\n",
    "> ---\n",
    "> - Another way of handling wrong data is to remove the rows that contains wrong data.\n",
    "> ---"
   ],
   "metadata": {
    "collapsed": false,
    "pycharm": {
     "name": "#%% md\n"
    }
   }
  },
  {
   "cell_type": "code",
   "execution_count": 86,
   "outputs": [],
   "source": [
    "df = pd.read_csv('data.csv')"
   ],
   "metadata": {
    "collapsed": false,
    "pycharm": {
     "name": "#%%\n"
    }
   }
  },
  {
   "cell_type": "code",
   "execution_count": 91,
   "outputs": [],
   "source": [
    "# 6th row will be deleted\n",
    "for x in df.index:\n",
    "    if df.loc[x,'Duration'] > 120:\n",
    "        df.drop(x,inplace = True)\n"
   ],
   "metadata": {
    "collapsed": false,
    "pycharm": {
     "name": "#%%\n"
    }
   }
  },
  {
   "cell_type": "code",
   "execution_count": 89,
   "outputs": [
    {
     "data": {
      "text/plain": "    Duration  Pulse  Maxpulse  Calories\n0         60    110       130     409.1\n1         60    117       145     479.0\n2         60    103       135     340.0\n3         45    109       175     282.4\n4         90    117       148     406.0\n5         60    102       127     300.0\n7         45    104       134     253.3\n8         30    109       133     195.1\n9         60     98       124     269.0\n10        60    103       147     329.3",
      "text/html": "<div>\n<style scoped>\n    .dataframe tbody tr th:only-of-type {\n        vertical-align: middle;\n    }\n\n    .dataframe tbody tr th {\n        vertical-align: top;\n    }\n\n    .dataframe thead th {\n        text-align: right;\n    }\n</style>\n<table border=\"1\" class=\"dataframe\">\n  <thead>\n    <tr style=\"text-align: right;\">\n      <th></th>\n      <th>Duration</th>\n      <th>Pulse</th>\n      <th>Maxpulse</th>\n      <th>Calories</th>\n    </tr>\n  </thead>\n  <tbody>\n    <tr>\n      <th>0</th>\n      <td>60</td>\n      <td>110</td>\n      <td>130</td>\n      <td>409.1</td>\n    </tr>\n    <tr>\n      <th>1</th>\n      <td>60</td>\n      <td>117</td>\n      <td>145</td>\n      <td>479.0</td>\n    </tr>\n    <tr>\n      <th>2</th>\n      <td>60</td>\n      <td>103</td>\n      <td>135</td>\n      <td>340.0</td>\n    </tr>\n    <tr>\n      <th>3</th>\n      <td>45</td>\n      <td>109</td>\n      <td>175</td>\n      <td>282.4</td>\n    </tr>\n    <tr>\n      <th>4</th>\n      <td>90</td>\n      <td>117</td>\n      <td>148</td>\n      <td>406.0</td>\n    </tr>\n    <tr>\n      <th>5</th>\n      <td>60</td>\n      <td>102</td>\n      <td>127</td>\n      <td>300.0</td>\n    </tr>\n    <tr>\n      <th>7</th>\n      <td>45</td>\n      <td>104</td>\n      <td>134</td>\n      <td>253.3</td>\n    </tr>\n    <tr>\n      <th>8</th>\n      <td>30</td>\n      <td>109</td>\n      <td>133</td>\n      <td>195.1</td>\n    </tr>\n    <tr>\n      <th>9</th>\n      <td>60</td>\n      <td>98</td>\n      <td>124</td>\n      <td>269.0</td>\n    </tr>\n    <tr>\n      <th>10</th>\n      <td>60</td>\n      <td>103</td>\n      <td>147</td>\n      <td>329.3</td>\n    </tr>\n  </tbody>\n</table>\n</div>"
     },
     "execution_count": 89,
     "metadata": {},
     "output_type": "execute_result"
    }
   ],
   "source": [
    "df.head(10)"
   ],
   "metadata": {
    "collapsed": false,
    "pycharm": {
     "name": "#%%\n"
    }
   }
  },
  {
   "cell_type": "markdown",
   "source": [
    "# Discover and Removing duplicates\n",
    "> ---\n",
    "> - We can use the duplicated() method to discover duplicates\n",
    "> - The duplicated() method returns a Boolean value for each row\n",
    "> - To remove duplicates, use the drop_duplicates() method.\n",
    "> ---"
   ],
   "metadata": {
    "collapsed": false,
    "pycharm": {
     "name": "#%% md\n"
    }
   }
  },
  {
   "cell_type": "code",
   "execution_count": 92,
   "outputs": [
    {
     "data": {
      "text/plain": "   Duration  Pulse  Maxpulse  Calories\n0        60    110       130     409.1\n1        60    117       145     479.0\n2        60    103       135     340.0\n3        45    109       175     282.4\n4        90    117       148     406.0\n5        60    102       127     300.0\n6        60    102       127     300.0",
      "text/html": "<div>\n<style scoped>\n    .dataframe tbody tr th:only-of-type {\n        vertical-align: middle;\n    }\n\n    .dataframe tbody tr th {\n        vertical-align: top;\n    }\n\n    .dataframe thead th {\n        text-align: right;\n    }\n</style>\n<table border=\"1\" class=\"dataframe\">\n  <thead>\n    <tr style=\"text-align: right;\">\n      <th></th>\n      <th>Duration</th>\n      <th>Pulse</th>\n      <th>Maxpulse</th>\n      <th>Calories</th>\n    </tr>\n  </thead>\n  <tbody>\n    <tr>\n      <th>0</th>\n      <td>60</td>\n      <td>110</td>\n      <td>130</td>\n      <td>409.1</td>\n    </tr>\n    <tr>\n      <th>1</th>\n      <td>60</td>\n      <td>117</td>\n      <td>145</td>\n      <td>479.0</td>\n    </tr>\n    <tr>\n      <th>2</th>\n      <td>60</td>\n      <td>103</td>\n      <td>135</td>\n      <td>340.0</td>\n    </tr>\n    <tr>\n      <th>3</th>\n      <td>45</td>\n      <td>109</td>\n      <td>175</td>\n      <td>282.4</td>\n    </tr>\n    <tr>\n      <th>4</th>\n      <td>90</td>\n      <td>117</td>\n      <td>148</td>\n      <td>406.0</td>\n    </tr>\n    <tr>\n      <th>5</th>\n      <td>60</td>\n      <td>102</td>\n      <td>127</td>\n      <td>300.0</td>\n    </tr>\n    <tr>\n      <th>6</th>\n      <td>60</td>\n      <td>102</td>\n      <td>127</td>\n      <td>300.0</td>\n    </tr>\n  </tbody>\n</table>\n</div>"
     },
     "execution_count": 92,
     "metadata": {},
     "output_type": "execute_result"
    }
   ],
   "source": [
    "df= pd.read_csv('data_dup.csv')\n",
    "df.head(7)"
   ],
   "metadata": {
    "collapsed": false,
    "pycharm": {
     "name": "#%%\n"
    }
   }
  },
  {
   "cell_type": "code",
   "execution_count": 94,
   "outputs": [
    {
     "data": {
      "text/plain": "0    False\n1    False\n2    False\n3    False\n4    False\n5    False\n6     True\ndtype: bool"
     },
     "execution_count": 94,
     "metadata": {},
     "output_type": "execute_result"
    }
   ],
   "source": [
    "df.duplicated().head(7)"
   ],
   "metadata": {
    "collapsed": false,
    "pycharm": {
     "name": "#%%\n"
    }
   }
  },
  {
   "cell_type": "code",
   "execution_count": 95,
   "outputs": [],
   "source": [
    "df.drop_duplicates(inplace = True)"
   ],
   "metadata": {
    "collapsed": false,
    "pycharm": {
     "name": "#%%\n"
    }
   }
  },
  {
   "cell_type": "code",
   "execution_count": 96,
   "outputs": [
    {
     "data": {
      "text/plain": "0    False\n1    False\n2    False\n3    False\n4    False\n5    False\n7    False\ndtype: bool"
     },
     "execution_count": 96,
     "metadata": {},
     "output_type": "execute_result"
    }
   ],
   "source": [
    "df.duplicated().head(7)"
   ],
   "metadata": {
    "collapsed": false,
    "pycharm": {
     "name": "#%%\n"
    }
   }
  },
  {
   "cell_type": "markdown",
   "source": [
    "# Finding Relationships\n",
    "---\n",
    "> - The corr() method ignores \"not numeric\" columns.\n"
   ],
   "metadata": {
    "collapsed": false,
    "pycharm": {
     "name": "#%% md\n"
    }
   }
  },
  {
   "cell_type": "code",
   "execution_count": 97,
   "outputs": [],
   "source": [
    "df = pd.read_csv('data.csv')"
   ],
   "metadata": {
    "collapsed": false,
    "pycharm": {
     "name": "#%%\n"
    }
   }
  },
  {
   "cell_type": "code",
   "execution_count": 98,
   "outputs": [
    {
     "data": {
      "text/plain": "          Duration     Pulse  Maxpulse  Calories\nDuration  1.000000 -0.083074  0.016406  0.571773\nPulse    -0.083074  1.000000  0.786535  0.025121\nMaxpulse  0.016406  0.786535  1.000000  0.203813\nCalories  0.571773  0.025121  0.203813  1.000000",
      "text/html": "<div>\n<style scoped>\n    .dataframe tbody tr th:only-of-type {\n        vertical-align: middle;\n    }\n\n    .dataframe tbody tr th {\n        vertical-align: top;\n    }\n\n    .dataframe thead th {\n        text-align: right;\n    }\n</style>\n<table border=\"1\" class=\"dataframe\">\n  <thead>\n    <tr style=\"text-align: right;\">\n      <th></th>\n      <th>Duration</th>\n      <th>Pulse</th>\n      <th>Maxpulse</th>\n      <th>Calories</th>\n    </tr>\n  </thead>\n  <tbody>\n    <tr>\n      <th>Duration</th>\n      <td>1.000000</td>\n      <td>-0.083074</td>\n      <td>0.016406</td>\n      <td>0.571773</td>\n    </tr>\n    <tr>\n      <th>Pulse</th>\n      <td>-0.083074</td>\n      <td>1.000000</td>\n      <td>0.786535</td>\n      <td>0.025121</td>\n    </tr>\n    <tr>\n      <th>Maxpulse</th>\n      <td>0.016406</td>\n      <td>0.786535</td>\n      <td>1.000000</td>\n      <td>0.203813</td>\n    </tr>\n    <tr>\n      <th>Calories</th>\n      <td>0.571773</td>\n      <td>0.025121</td>\n      <td>0.203813</td>\n      <td>1.000000</td>\n    </tr>\n  </tbody>\n</table>\n</div>"
     },
     "execution_count": 98,
     "metadata": {},
     "output_type": "execute_result"
    }
   ],
   "source": [
    "df.corr()"
   ],
   "metadata": {
    "collapsed": false,
    "pycharm": {
     "name": "#%%\n"
    }
   }
  },
  {
   "cell_type": "code",
   "execution_count": 102,
   "outputs": [
    {
     "data": {
      "text/plain": "<Figure size 1440x1440 with 0 Axes>"
     },
     "execution_count": 102,
     "metadata": {},
     "output_type": "execute_result"
    },
    {
     "data": {
      "text/plain": "<Figure size 432x288 with 1 Axes>",
      "image/png": "[encoded data removed]"
     },
     "metadata": {
      "needs_background": "light"
     },
     "output_type": "display_data"
    },
    {
     "data": {
      "text/plain": "<Figure size 1440x1440 with 0 Axes>"
     },
     "metadata": {},
     "output_type": "display_data"
    }
   ],
   "source": [
    "df.plot()\n",
    "plt.figure(figsize=(20,20))"
   ],
   "metadata": {
    "collapsed": false,
    "pycharm": {
     "name": "#%%\n"
    }
   }
  },
  {
   "cell_type": "code",
   "execution_count": 103,
   "outputs": [
    {
     "data": {
      "text/plain": "<AxesSubplot:xlabel='Duration', ylabel='Calories'>"
     },
     "execution_count": 103,
     "metadata": {},
     "output_type": "execute_result"
    },
    {
     "data": {
      "text/plain": "<Figure size 432x288 with 1 Axes>",
      "image/png": "[encoded data removed]"
     },
     "metadata": {
      "needs_background": "light"
     },
     "output_type": "display_data"
    }
   ],
   "source": [
    "df.plot(kind = 'scatter', x = 'Duration', y = 'Calories')\n"
   ],
   "metadata": {
    "collapsed": false,
    "pycharm": {
     "name": "#%%\n"
    }
   }
  },
  {
   "cell_type": "code",
   "execution_count": 104,
   "outputs": [
    {
     "data": {
      "text/plain": "<AxesSubplot:xlabel='Duration', ylabel='Maxpulse'>"
     },
     "execution_count": 104,
     "metadata": {},
     "output_type": "execute_result"
    },
    {
     "data": {
      "text/plain": "<Figure size 432x288 with 1 Axes>",
      "image/png": "[encoded data removed]"
     },
     "metadata": {
      "needs_background": "light"
     },
     "output_type": "display_data"
    }
   ],
   "source": [
    "df.plot(kind = 'scatter', x = 'Duration', y = 'Maxpulse')"
   ],
   "metadata": {
    "collapsed": false,
    "pycharm": {
     "name": "#%%\n"
    }
   }
  },
  {
   "cell_type": "code",
   "execution_count": 105,
   "outputs": [
    {
     "data": {
      "text/plain": "<AxesSubplot:ylabel='Frequency'>"
     },
     "execution_count": 105,
     "metadata": {},
     "output_type": "execute_result"
    },
    {
     "data": {
      "text/plain": "<Figure size 432x288 with 1 Axes>",
      "image/png": "[encoded data removed]"
     },
     "metadata": {
      "needs_background": "light"
     },
     "output_type": "display_data"
    }
   ],
   "source": [
    "df[\"Duration\"].plot(kind = 'hist')"
   ],
   "metadata": {
    "collapsed": false,
    "pycharm": {
     "name": "#%%\n"
    }
   }
  },
  {
   "cell_type": "code",
   "execution_count": 106,
   "outputs": [
    {
     "name": "stdout",
     "output_type": "stream",
     "text": [
      "    0   1   2\n",
      "0  50  40  30\n",
      "1   1   2   2\n"
     ]
    },
    {
     "data": {
      "text/plain": "    0   1   2\n0 -50  40  30\n1  -1   2  -2",
      "text/html": "<div>\n<style scoped>\n    .dataframe tbody tr th:only-of-type {\n        vertical-align: middle;\n    }\n\n    .dataframe tbody tr th {\n        vertical-align: top;\n    }\n\n    .dataframe thead th {\n        text-align: right;\n    }\n</style>\n<table border=\"1\" class=\"dataframe\">\n  <thead>\n    <tr style=\"text-align: right;\">\n      <th></th>\n      <th>0</th>\n      <th>1</th>\n      <th>2</th>\n    </tr>\n  </thead>\n  <tbody>\n    <tr>\n      <th>0</th>\n      <td>-50</td>\n      <td>40</td>\n      <td>30</td>\n    </tr>\n    <tr>\n      <th>1</th>\n      <td>-1</td>\n      <td>2</td>\n      <td>-2</td>\n    </tr>\n  </tbody>\n</table>\n</div>"
     },
     "execution_count": 106,
     "metadata": {},
     "output_type": "execute_result"
    }
   ],
   "source": [
    "\n",
    "\n",
    "data = [[-50, 40, 30], [-1, 2, -2]]\n",
    "df = pd.DataFrame(data)\n",
    "print(df.abs())\n",
    "df"
   ],
   "metadata": {
    "collapsed": false,
    "pycharm": {
     "name": "#%%\n"
    }
   }
  }
 ],
 "metadata": {
  "kernelspec": {
   "display_name": "Python 3",
   "language": "python",
   "name": "python3"
  },
  "language_info": {
   "codemirror_mode": {
    "name": "ipython",
    "version": 2
   },
   "file_extension": ".py",
   "mimetype": "text/x-python",
   "name": "python",
   "nbconvert_exporter": "python",
   "pygments_lexer": "ipython2",
   "version": "2.7.6"
  }
 },
 "nbformat": 4,
 "nbformat_minor": 0
}