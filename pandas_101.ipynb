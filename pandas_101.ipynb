{
 "cells": [
  {
   "cell_type": "markdown",
   "source": [
    "# Pandas basic and Importing Libraries"
   ],
   "metadata": {
    "collapsed": false,
    "pycharm": {
     "name": "#%% md\n"
    }
   }
  },
  {
   "cell_type": "code",
   "execution_count": 1,
   "outputs": [],
   "source": [
    "import pandas as pd\n",
    "import numpy as np"
   ],
   "metadata": {
    "collapsed": false,
    "pycharm": {
     "name": "#%%\n"
    }
   }
  },
  {
   "cell_type": "code",
   "execution_count": 2,
   "outputs": [
    {
     "data": {
      "text/plain": "0    1.0\n1    3.0\n2    5.0\n3    7.0\n4    NaN\n5    9.0\ndtype: float64"
     },
     "execution_count": 2,
     "metadata": {},
     "output_type": "execute_result"
    }
   ],
   "source": [
    "# Object Creation\n",
    "s = pd.Series([1,3,5,7,np.nan,9])\n",
    "s"
   ],
   "metadata": {
    "collapsed": false,
    "pycharm": {
     "name": "#%%\n"
    }
   }
  },
  {
   "cell_type": "code",
   "execution_count": 3,
   "outputs": [
    {
     "data": {
      "text/plain": "DatetimeIndex(['2022-01-01', '2022-01-02', '2022-01-03', '2022-01-04',\n               '2022-01-05', '2022-01-06', '2022-01-07', '2022-01-08',\n               '2022-01-09', '2022-01-10'],\n              dtype='datetime64[ns]', freq='D')"
     },
     "execution_count": 3,
     "metadata": {},
     "output_type": "execute_result"
    }
   ],
   "source": [
    "dates = pd.date_range(\"20220101\",periods=10)\n",
    "dates"
   ],
   "metadata": {
    "collapsed": false,
    "pycharm": {
     "name": "#%%\n"
    }
   }
  },
  {
   "cell_type": "markdown",
   "source": [
    "# Create a dataFrame with Pandas"
   ],
   "metadata": {
    "collapsed": false,
    "pycharm": {
     "name": "#%% md\n"
    }
   }
  },
  {
   "cell_type": "code",
   "execution_count": 4,
   "outputs": [
    {
     "data": {
      "text/plain": "                   A         B         C         D\n2022-01-01  0.106638 -0.225311 -0.713244  0.460247\n2022-01-02 -0.053702 -2.183745  0.903487 -1.617049\n2022-01-03  0.206213 -0.858194 -1.449866 -0.252089\n2022-01-04 -0.550779  0.051097  0.185565 -0.760471\n2022-01-05  0.592490 -0.604580 -1.180370  0.001829\n2022-01-06  1.509371 -0.493017 -0.964426  0.436751\n2022-01-07  0.590318  1.494997 -1.622967  1.232837\n2022-01-08  0.800911 -1.816093 -0.561189  1.433234\n2022-01-09  0.278477 -0.532994 -0.192371 -0.078092\n2022-01-10  0.463482  0.284556 -1.030208  0.405019",
      "text/html": "<div>\n<style scoped>\n    .dataframe tbody tr th:only-of-type {\n        vertical-align: middle;\n    }\n\n    .dataframe tbody tr th {\n        vertical-align: top;\n    }\n\n    .dataframe thead th {\n        text-align: right;\n    }\n</style>\n<table border=\"1\" class=\"dataframe\">\n  <thead>\n    <tr style=\"text-align: right;\">\n      <th></th>\n      <th>A</th>\n      <th>B</th>\n      <th>C</th>\n      <th>D</th>\n    </tr>\n  </thead>\n  <tbody>\n    <tr>\n      <th>2022-01-01</th>\n      <td>0.106638</td>\n      <td>-0.225311</td>\n      <td>-0.713244</td>\n      <td>0.460247</td>\n    </tr>\n    <tr>\n      <th>2022-01-02</th>\n      <td>-0.053702</td>\n      <td>-2.183745</td>\n      <td>0.903487</td>\n      <td>-1.617049</td>\n    </tr>\n    <tr>\n      <th>2022-01-03</th>\n      <td>0.206213</td>\n      <td>-0.858194</td>\n      <td>-1.449866</td>\n      <td>-0.252089</td>\n    </tr>\n    <tr>\n      <th>2022-01-04</th>\n      <td>-0.550779</td>\n      <td>0.051097</td>\n      <td>0.185565</td>\n      <td>-0.760471</td>\n    </tr>\n    <tr>\n      <th>2022-01-05</th>\n      <td>0.592490</td>\n      <td>-0.604580</td>\n      <td>-1.180370</td>\n      <td>0.001829</td>\n    </tr>\n    <tr>\n      <th>2022-01-06</th>\n      <td>1.509371</td>\n      <td>-0.493017</td>\n      <td>-0.964426</td>\n      <td>0.436751</td>\n    </tr>\n    <tr>\n      <th>2022-01-07</th>\n      <td>0.590318</td>\n      <td>1.494997</td>\n      <td>-1.622967</td>\n      <td>1.232837</td>\n    </tr>\n    <tr>\n      <th>2022-01-08</th>\n      <td>0.800911</td>\n      <td>-1.816093</td>\n      <td>-0.561189</td>\n      <td>1.433234</td>\n    </tr>\n    <tr>\n      <th>2022-01-09</th>\n      <td>0.278477</td>\n      <td>-0.532994</td>\n      <td>-0.192371</td>\n      <td>-0.078092</td>\n    </tr>\n    <tr>\n      <th>2022-01-10</th>\n      <td>0.463482</td>\n      <td>0.284556</td>\n      <td>-1.030208</td>\n      <td>0.405019</td>\n    </tr>\n  </tbody>\n</table>\n</div>"
     },
     "execution_count": 4,
     "metadata": {},
     "output_type": "execute_result"
    }
   ],
   "source": [
    "df = pd.DataFrame(np.random.randn(10, 4),index=dates, columns=list(\"ABCD\"))\n",
    "df"
   ],
   "metadata": {
    "collapsed": false,
    "pycharm": {
     "name": "#%%\n"
    }
   }
  },
  {
   "cell_type": "markdown",
   "source": [
    "> Create data frame Via Dictionary"
   ],
   "metadata": {
    "collapsed": false,
    "pycharm": {
     "name": "#%% md\n"
    }
   }
  },
  {
   "cell_type": "code",
   "execution_count": 5,
   "outputs": [
    {
     "data": {
      "text/plain": "     A          B    C  D        E     F\n0  1.0 2022-01-01  2.0  3  Teenage  Male\n1  1.0 2022-01-02  2.0  3      Boy  Male\n2  1.0 2022-01-03  2.0  3      Man  Male\n3  1.0 2022-01-04  2.0  3   Oldman  Male",
      "text/html": "<div>\n<style scoped>\n    .dataframe tbody tr th:only-of-type {\n        vertical-align: middle;\n    }\n\n    .dataframe tbody tr th {\n        vertical-align: top;\n    }\n\n    .dataframe thead th {\n        text-align: right;\n    }\n</style>\n<table border=\"1\" class=\"dataframe\">\n  <thead>\n    <tr style=\"text-align: right;\">\n      <th></th>\n      <th>A</th>\n      <th>B</th>\n      <th>C</th>\n      <th>D</th>\n      <th>E</th>\n      <th>F</th>\n    </tr>\n  </thead>\n  <tbody>\n    <tr>\n      <th>0</th>\n      <td>1.0</td>\n      <td>2022-01-01</td>\n      <td>2.0</td>\n      <td>3</td>\n      <td>Teenage</td>\n      <td>Male</td>\n    </tr>\n    <tr>\n      <th>1</th>\n      <td>1.0</td>\n      <td>2022-01-02</td>\n      <td>2.0</td>\n      <td>3</td>\n      <td>Boy</td>\n      <td>Male</td>\n    </tr>\n    <tr>\n      <th>2</th>\n      <td>1.0</td>\n      <td>2022-01-03</td>\n      <td>2.0</td>\n      <td>3</td>\n      <td>Man</td>\n      <td>Male</td>\n    </tr>\n    <tr>\n      <th>3</th>\n      <td>1.0</td>\n      <td>2022-01-04</td>\n      <td>2.0</td>\n      <td>3</td>\n      <td>Oldman</td>\n      <td>Male</td>\n    </tr>\n  </tbody>\n</table>\n</div>"
     },
     "execution_count": 5,
     "metadata": {},
     "output_type": "execute_result"
    }
   ],
   "source": [
    "df_1 = pd.DataFrame(\n",
    "    {\n",
    "        \"A\":1.0,\n",
    "        # \"B\":pd.Timestamp(\"20220101\"),\n",
    "        \"B\":pd.date_range(\"20220101\",periods=4),\n",
    "        # \"C\":pd.Series(list(range(4)),index=list(range(4)) ,dtype=\"float64\"),\n",
    "        \"C\":pd.Series(2,index=list(range(4)) ,dtype=\"float64\"),\n",
    "        \"D\":np.array([3] * 4,dtype=\"int32\"),\n",
    "        \"E\":pd.Categorical([\"Teenage\",\"Boy\",\"Man\",\"Oldman\"]),\n",
    "        \"F\":\"Male\"\n",
    "\n",
    "    }\n",
    ")\n",
    "df_1"
   ],
   "metadata": {
    "collapsed": false,
    "pycharm": {
     "name": "#%%\n"
    }
   }
  },
  {
   "cell_type": "code",
   "execution_count": 6,
   "outputs": [
    {
     "data": {
      "text/plain": "A           float64\nB    datetime64[ns]\nC           float64\nD             int32\nE          category\nF            object\ndtype: object"
     },
     "execution_count": 6,
     "metadata": {},
     "output_type": "execute_result"
    }
   ],
   "source": [
    "df_1.dtypes"
   ],
   "metadata": {
    "collapsed": false,
    "pycharm": {
     "name": "#%%\n"
    }
   }
  },
  {
   "cell_type": "markdown",
   "source": [
    "> Viewing the data First N rows"
   ],
   "metadata": {
    "collapsed": false,
    "pycharm": {
     "name": "#%% md\n"
    }
   }
  },
  {
   "cell_type": "code",
   "execution_count": 7,
   "outputs": [
    {
     "data": {
      "text/plain": "                   A         B         C         D\n2022-01-01  0.106638 -0.225311 -0.713244  0.460247\n2022-01-02 -0.053702 -2.183745  0.903487 -1.617049\n2022-01-03  0.206213 -0.858194 -1.449866 -0.252089\n2022-01-04 -0.550779  0.051097  0.185565 -0.760471\n2022-01-05  0.592490 -0.604580 -1.180370  0.001829",
      "text/html": "<div>\n<style scoped>\n    .dataframe tbody tr th:only-of-type {\n        vertical-align: middle;\n    }\n\n    .dataframe tbody tr th {\n        vertical-align: top;\n    }\n\n    .dataframe thead th {\n        text-align: right;\n    }\n</style>\n<table border=\"1\" class=\"dataframe\">\n  <thead>\n    <tr style=\"text-align: right;\">\n      <th></th>\n      <th>A</th>\n      <th>B</th>\n      <th>C</th>\n      <th>D</th>\n    </tr>\n  </thead>\n  <tbody>\n    <tr>\n      <th>2022-01-01</th>\n      <td>0.106638</td>\n      <td>-0.225311</td>\n      <td>-0.713244</td>\n      <td>0.460247</td>\n    </tr>\n    <tr>\n      <th>2022-01-02</th>\n      <td>-0.053702</td>\n      <td>-2.183745</td>\n      <td>0.903487</td>\n      <td>-1.617049</td>\n    </tr>\n    <tr>\n      <th>2022-01-03</th>\n      <td>0.206213</td>\n      <td>-0.858194</td>\n      <td>-1.449866</td>\n      <td>-0.252089</td>\n    </tr>\n    <tr>\n      <th>2022-01-04</th>\n      <td>-0.550779</td>\n      <td>0.051097</td>\n      <td>0.185565</td>\n      <td>-0.760471</td>\n    </tr>\n    <tr>\n      <th>2022-01-05</th>\n      <td>0.592490</td>\n      <td>-0.604580</td>\n      <td>-1.180370</td>\n      <td>0.001829</td>\n    </tr>\n  </tbody>\n</table>\n</div>"
     },
     "execution_count": 7,
     "metadata": {},
     "output_type": "execute_result"
    }
   ],
   "source": [
    "df.head(5)"
   ],
   "metadata": {
    "collapsed": false,
    "pycharm": {
     "name": "#%%\n"
    }
   }
  },
  {
   "cell_type": "markdown",
   "source": [
    "> Viewing the data last N rows"
   ],
   "metadata": {
    "collapsed": false,
    "pycharm": {
     "name": "#%% md\n"
    }
   }
  },
  {
   "cell_type": "code",
   "execution_count": 8,
   "outputs": [
    {
     "data": {
      "text/plain": "                   A         B         C         D\n2022-01-06  1.509371 -0.493017 -0.964426  0.436751\n2022-01-07  0.590318  1.494997 -1.622967  1.232837\n2022-01-08  0.800911 -1.816093 -0.561189  1.433234\n2022-01-09  0.278477 -0.532994 -0.192371 -0.078092\n2022-01-10  0.463482  0.284556 -1.030208  0.405019",
      "text/html": "<div>\n<style scoped>\n    .dataframe tbody tr th:only-of-type {\n        vertical-align: middle;\n    }\n\n    .dataframe tbody tr th {\n        vertical-align: top;\n    }\n\n    .dataframe thead th {\n        text-align: right;\n    }\n</style>\n<table border=\"1\" class=\"dataframe\">\n  <thead>\n    <tr style=\"text-align: right;\">\n      <th></th>\n      <th>A</th>\n      <th>B</th>\n      <th>C</th>\n      <th>D</th>\n    </tr>\n  </thead>\n  <tbody>\n    <tr>\n      <th>2022-01-06</th>\n      <td>1.509371</td>\n      <td>-0.493017</td>\n      <td>-0.964426</td>\n      <td>0.436751</td>\n    </tr>\n    <tr>\n      <th>2022-01-07</th>\n      <td>0.590318</td>\n      <td>1.494997</td>\n      <td>-1.622967</td>\n      <td>1.232837</td>\n    </tr>\n    <tr>\n      <th>2022-01-08</th>\n      <td>0.800911</td>\n      <td>-1.816093</td>\n      <td>-0.561189</td>\n      <td>1.433234</td>\n    </tr>\n    <tr>\n      <th>2022-01-09</th>\n      <td>0.278477</td>\n      <td>-0.532994</td>\n      <td>-0.192371</td>\n      <td>-0.078092</td>\n    </tr>\n    <tr>\n      <th>2022-01-10</th>\n      <td>0.463482</td>\n      <td>0.284556</td>\n      <td>-1.030208</td>\n      <td>0.405019</td>\n    </tr>\n  </tbody>\n</table>\n</div>"
     },
     "execution_count": 8,
     "metadata": {},
     "output_type": "execute_result"
    }
   ],
   "source": [
    "df.tail(5)"
   ],
   "metadata": {
    "collapsed": false,
    "pycharm": {
     "name": "#%%\n"
    }
   }
  },
  {
   "cell_type": "markdown",
   "source": [
    "- get index of DataFrame"
   ],
   "metadata": {
    "collapsed": false,
    "pycharm": {
     "name": "#%% md\n"
    }
   }
  },
  {
   "cell_type": "code",
   "execution_count": 9,
   "outputs": [
    {
     "data": {
      "text/plain": "Int64Index([0, 1, 2, 3], dtype='int64')"
     },
     "execution_count": 9,
     "metadata": {},
     "output_type": "execute_result"
    }
   ],
   "source": [
    "df_1.index"
   ],
   "metadata": {
    "collapsed": false,
    "pycharm": {
     "name": "#%%\n"
    }
   }
  },
  {
   "cell_type": "markdown",
   "source": [
    "- Convert DataFrame to Numpy array"
   ],
   "metadata": {
    "collapsed": false,
    "pycharm": {
     "name": "#%% md\n"
    }
   }
  },
  {
   "cell_type": "code",
   "execution_count": 10,
   "outputs": [
    {
     "data": {
      "text/plain": "array([[ 1.06637826e-01, -2.25310837e-01, -7.13243882e-01,\n         4.60247379e-01],\n       [-5.37024248e-02, -2.18374522e+00,  9.03487177e-01,\n        -1.61704923e+00],\n       [ 2.06212909e-01, -8.58193599e-01, -1.44986582e+00,\n        -2.52089043e-01],\n       [-5.50778644e-01,  5.10972158e-02,  1.85565278e-01,\n        -7.60471339e-01],\n       [ 5.92489524e-01, -6.04579927e-01, -1.18036987e+00,\n         1.82890669e-03],\n       [ 1.50937133e+00, -4.93017153e-01, -9.64426067e-01,\n         4.36750596e-01],\n       [ 5.90317551e-01,  1.49499735e+00, -1.62296687e+00,\n         1.23283722e+00],\n       [ 8.00911354e-01, -1.81609289e+00, -5.61189317e-01,\n         1.43323403e+00],\n       [ 2.78476818e-01, -5.32994212e-01, -1.92370822e-01,\n        -7.80920640e-02],\n       [ 4.63481823e-01,  2.84555982e-01, -1.03020837e+00,\n         4.05018938e-01]])"
     },
     "execution_count": 10,
     "metadata": {},
     "output_type": "execute_result"
    }
   ],
   "source": [
    "df.to_numpy()"
   ],
   "metadata": {
    "collapsed": false,
    "pycharm": {
     "name": "#%%\n"
    }
   }
  },
  {
   "cell_type": "markdown",
   "source": [
    "- Get Mean Median of DataFrame"
   ],
   "metadata": {
    "collapsed": false,
    "pycharm": {
     "name": "#%% md\n"
    }
   }
  },
  {
   "cell_type": "code",
   "execution_count": 11,
   "outputs": [
    {
     "data": {
      "text/plain": "               A          B          C          D\ncount  10.000000  10.000000  10.000000  10.000000\nmean    0.394342  -0.488328  -0.662559   0.126222\nstd     0.549406   1.037134   0.777631   0.897166\nmin    -0.550779  -2.183745  -1.622967  -1.617049\n25%     0.131532  -0.794790  -1.142829  -0.208590\n50%     0.370979  -0.513006  -0.838835   0.203424\n75%     0.591947  -0.018005  -0.284575   0.454373\nmax     1.509371   1.494997   0.903487   1.433234",
      "text/html": "<div>\n<style scoped>\n    .dataframe tbody tr th:only-of-type {\n        vertical-align: middle;\n    }\n\n    .dataframe tbody tr th {\n        vertical-align: top;\n    }\n\n    .dataframe thead th {\n        text-align: right;\n    }\n</style>\n<table border=\"1\" class=\"dataframe\">\n  <thead>\n    <tr style=\"text-align: right;\">\n      <th></th>\n      <th>A</th>\n      <th>B</th>\n      <th>C</th>\n      <th>D</th>\n    </tr>\n  </thead>\n  <tbody>\n    <tr>\n      <th>count</th>\n      <td>10.000000</td>\n      <td>10.000000</td>\n      <td>10.000000</td>\n      <td>10.000000</td>\n    </tr>\n    <tr>\n      <th>mean</th>\n      <td>0.394342</td>\n      <td>-0.488328</td>\n      <td>-0.662559</td>\n      <td>0.126222</td>\n    </tr>\n    <tr>\n      <th>std</th>\n      <td>0.549406</td>\n      <td>1.037134</td>\n      <td>0.777631</td>\n      <td>0.897166</td>\n    </tr>\n    <tr>\n      <th>min</th>\n      <td>-0.550779</td>\n      <td>-2.183745</td>\n      <td>-1.622967</td>\n      <td>-1.617049</td>\n    </tr>\n    <tr>\n      <th>25%</th>\n      <td>0.131532</td>\n      <td>-0.794790</td>\n      <td>-1.142829</td>\n      <td>-0.208590</td>\n    </tr>\n    <tr>\n      <th>50%</th>\n      <td>0.370979</td>\n      <td>-0.513006</td>\n      <td>-0.838835</td>\n      <td>0.203424</td>\n    </tr>\n    <tr>\n      <th>75%</th>\n      <td>0.591947</td>\n      <td>-0.018005</td>\n      <td>-0.284575</td>\n      <td>0.454373</td>\n    </tr>\n    <tr>\n      <th>max</th>\n      <td>1.509371</td>\n      <td>1.494997</td>\n      <td>0.903487</td>\n      <td>1.433234</td>\n    </tr>\n  </tbody>\n</table>\n</div>"
     },
     "execution_count": 11,
     "metadata": {},
     "output_type": "execute_result"
    }
   ],
   "source": [
    "df.describe()"
   ],
   "metadata": {
    "collapsed": false,
    "pycharm": {
     "name": "#%%\n"
    }
   }
  },
  {
   "cell_type": "markdown",
   "source": [
    "- Transposing DataFrame"
   ],
   "metadata": {
    "collapsed": false,
    "pycharm": {
     "name": "#%% md\n"
    }
   }
  },
  {
   "cell_type": "code",
   "execution_count": 12,
   "outputs": [
    {
     "data": {
      "text/plain": "   2022-01-01  2022-01-02  2022-01-03  2022-01-04  2022-01-05  2022-01-06  \\\nA    0.106638   -0.053702    0.206213   -0.550779    0.592490    1.509371   \nB   -0.225311   -2.183745   -0.858194    0.051097   -0.604580   -0.493017   \nC   -0.713244    0.903487   -1.449866    0.185565   -1.180370   -0.964426   \nD    0.460247   -1.617049   -0.252089   -0.760471    0.001829    0.436751   \n\n   2022-01-07  2022-01-08  2022-01-09  2022-01-10  \nA    0.590318    0.800911    0.278477    0.463482  \nB    1.494997   -1.816093   -0.532994    0.284556  \nC   -1.622967   -0.561189   -0.192371   -1.030208  \nD    1.232837    1.433234   -0.078092    0.405019  ",
      "text/html": "<div>\n<style scoped>\n    .dataframe tbody tr th:only-of-type {\n        vertical-align: middle;\n    }\n\n    .dataframe tbody tr th {\n        vertical-align: top;\n    }\n\n    .dataframe thead th {\n        text-align: right;\n    }\n</style>\n<table border=\"1\" class=\"dataframe\">\n  <thead>\n    <tr style=\"text-align: right;\">\n      <th></th>\n      <th>2022-01-01</th>\n      <th>2022-01-02</th>\n      <th>2022-01-03</th>\n      <th>2022-01-04</th>\n      <th>2022-01-05</th>\n      <th>2022-01-06</th>\n      <th>2022-01-07</th>\n      <th>2022-01-08</th>\n      <th>2022-01-09</th>\n      <th>2022-01-10</th>\n    </tr>\n  </thead>\n  <tbody>\n    <tr>\n      <th>A</th>\n      <td>0.106638</td>\n      <td>-0.053702</td>\n      <td>0.206213</td>\n      <td>-0.550779</td>\n      <td>0.592490</td>\n      <td>1.509371</td>\n      <td>0.590318</td>\n      <td>0.800911</td>\n      <td>0.278477</td>\n      <td>0.463482</td>\n    </tr>\n    <tr>\n      <th>B</th>\n      <td>-0.225311</td>\n      <td>-2.183745</td>\n      <td>-0.858194</td>\n      <td>0.051097</td>\n      <td>-0.604580</td>\n      <td>-0.493017</td>\n      <td>1.494997</td>\n      <td>-1.816093</td>\n      <td>-0.532994</td>\n      <td>0.284556</td>\n    </tr>\n    <tr>\n      <th>C</th>\n      <td>-0.713244</td>\n      <td>0.903487</td>\n      <td>-1.449866</td>\n      <td>0.185565</td>\n      <td>-1.180370</td>\n      <td>-0.964426</td>\n      <td>-1.622967</td>\n      <td>-0.561189</td>\n      <td>-0.192371</td>\n      <td>-1.030208</td>\n    </tr>\n    <tr>\n      <th>D</th>\n      <td>0.460247</td>\n      <td>-1.617049</td>\n      <td>-0.252089</td>\n      <td>-0.760471</td>\n      <td>0.001829</td>\n      <td>0.436751</td>\n      <td>1.232837</td>\n      <td>1.433234</td>\n      <td>-0.078092</td>\n      <td>0.405019</td>\n    </tr>\n  </tbody>\n</table>\n</div>"
     },
     "execution_count": 12,
     "metadata": {},
     "output_type": "execute_result"
    }
   ],
   "source": [
    "df.T"
   ],
   "metadata": {
    "collapsed": false,
    "pycharm": {
     "name": "#%%\n"
    }
   }
  },
  {
   "cell_type": "markdown",
   "source": [
    "- Sorting The DataFrame"
   ],
   "metadata": {
    "collapsed": false,
    "pycharm": {
     "name": "#%% md\n"
    }
   }
  },
  {
   "cell_type": "code",
   "execution_count": 13,
   "outputs": [
    {
     "data": {
      "text/plain": "                   A         B         C         D\n2022-01-01  0.106638 -0.225311 -0.713244  0.460247\n2022-01-02 -0.053702 -2.183745  0.903487 -1.617049\n2022-01-03  0.206213 -0.858194 -1.449866 -0.252089\n2022-01-04 -0.550779  0.051097  0.185565 -0.760471\n2022-01-05  0.592490 -0.604580 -1.180370  0.001829\n2022-01-06  1.509371 -0.493017 -0.964426  0.436751\n2022-01-07  0.590318  1.494997 -1.622967  1.232837\n2022-01-08  0.800911 -1.816093 -0.561189  1.433234\n2022-01-09  0.278477 -0.532994 -0.192371 -0.078092\n2022-01-10  0.463482  0.284556 -1.030208  0.405019",
      "text/html": "<div>\n<style scoped>\n    .dataframe tbody tr th:only-of-type {\n        vertical-align: middle;\n    }\n\n    .dataframe tbody tr th {\n        vertical-align: top;\n    }\n\n    .dataframe thead th {\n        text-align: right;\n    }\n</style>\n<table border=\"1\" class=\"dataframe\">\n  <thead>\n    <tr style=\"text-align: right;\">\n      <th></th>\n      <th>A</th>\n      <th>B</th>\n      <th>C</th>\n      <th>D</th>\n    </tr>\n  </thead>\n  <tbody>\n    <tr>\n      <th>2022-01-01</th>\n      <td>0.106638</td>\n      <td>-0.225311</td>\n      <td>-0.713244</td>\n      <td>0.460247</td>\n    </tr>\n    <tr>\n      <th>2022-01-02</th>\n      <td>-0.053702</td>\n      <td>-2.183745</td>\n      <td>0.903487</td>\n      <td>-1.617049</td>\n    </tr>\n    <tr>\n      <th>2022-01-03</th>\n      <td>0.206213</td>\n      <td>-0.858194</td>\n      <td>-1.449866</td>\n      <td>-0.252089</td>\n    </tr>\n    <tr>\n      <th>2022-01-04</th>\n      <td>-0.550779</td>\n      <td>0.051097</td>\n      <td>0.185565</td>\n      <td>-0.760471</td>\n    </tr>\n    <tr>\n      <th>2022-01-05</th>\n      <td>0.592490</td>\n      <td>-0.604580</td>\n      <td>-1.180370</td>\n      <td>0.001829</td>\n    </tr>\n    <tr>\n      <th>2022-01-06</th>\n      <td>1.509371</td>\n      <td>-0.493017</td>\n      <td>-0.964426</td>\n      <td>0.436751</td>\n    </tr>\n    <tr>\n      <th>2022-01-07</th>\n      <td>0.590318</td>\n      <td>1.494997</td>\n      <td>-1.622967</td>\n      <td>1.232837</td>\n    </tr>\n    <tr>\n      <th>2022-01-08</th>\n      <td>0.800911</td>\n      <td>-1.816093</td>\n      <td>-0.561189</td>\n      <td>1.433234</td>\n    </tr>\n    <tr>\n      <th>2022-01-09</th>\n      <td>0.278477</td>\n      <td>-0.532994</td>\n      <td>-0.192371</td>\n      <td>-0.078092</td>\n    </tr>\n    <tr>\n      <th>2022-01-10</th>\n      <td>0.463482</td>\n      <td>0.284556</td>\n      <td>-1.030208</td>\n      <td>0.405019</td>\n    </tr>\n  </tbody>\n</table>\n</div>"
     },
     "execution_count": 13,
     "metadata": {},
     "output_type": "execute_result"
    }
   ],
   "source": [
    "df"
   ],
   "metadata": {
    "collapsed": false,
    "pycharm": {
     "name": "#%%\n"
    }
   }
  },
  {
   "cell_type": "code",
   "execution_count": 18,
   "outputs": [
    {
     "data": {
      "text/plain": "                   A         B         C         D\n2022-01-01  0.106638 -0.225311 -0.713244  0.460247\n2022-01-02 -0.053702 -2.183745  0.903487 -1.617049\n2022-01-03  0.206213 -0.858194 -1.449866 -0.252089\n2022-01-04 -0.550779  0.051097  0.185565 -0.760471\n2022-01-05  0.592490 -0.604580 -1.180370  0.001829\n2022-01-06  1.509371 -0.493017 -0.964426  0.436751\n2022-01-07  0.590318  1.494997 -1.622967  1.232837\n2022-01-08  0.800911 -1.816093 -0.561189  1.433234\n2022-01-09  0.278477 -0.532994 -0.192371 -0.078092\n2022-01-10  0.463482  0.284556 -1.030208  0.405019",
      "text/html": "<div>\n<style scoped>\n    .dataframe tbody tr th:only-of-type {\n        vertical-align: middle;\n    }\n\n    .dataframe tbody tr th {\n        vertical-align: top;\n    }\n\n    .dataframe thead th {\n        text-align: right;\n    }\n</style>\n<table border=\"1\" class=\"dataframe\">\n  <thead>\n    <tr style=\"text-align: right;\">\n      <th></th>\n      <th>A</th>\n      <th>B</th>\n      <th>C</th>\n      <th>D</th>\n    </tr>\n  </thead>\n  <tbody>\n    <tr>\n      <th>2022-01-01</th>\n      <td>0.106638</td>\n      <td>-0.225311</td>\n      <td>-0.713244</td>\n      <td>0.460247</td>\n    </tr>\n    <tr>\n      <th>2022-01-02</th>\n      <td>-0.053702</td>\n      <td>-2.183745</td>\n      <td>0.903487</td>\n      <td>-1.617049</td>\n    </tr>\n    <tr>\n      <th>2022-01-03</th>\n      <td>0.206213</td>\n      <td>-0.858194</td>\n      <td>-1.449866</td>\n      <td>-0.252089</td>\n    </tr>\n    <tr>\n      <th>2022-01-04</th>\n      <td>-0.550779</td>\n      <td>0.051097</td>\n      <td>0.185565</td>\n      <td>-0.760471</td>\n    </tr>\n    <tr>\n      <th>2022-01-05</th>\n      <td>0.592490</td>\n      <td>-0.604580</td>\n      <td>-1.180370</td>\n      <td>0.001829</td>\n    </tr>\n    <tr>\n      <th>2022-01-06</th>\n      <td>1.509371</td>\n      <td>-0.493017</td>\n      <td>-0.964426</td>\n      <td>0.436751</td>\n    </tr>\n    <tr>\n      <th>2022-01-07</th>\n      <td>0.590318</td>\n      <td>1.494997</td>\n      <td>-1.622967</td>\n      <td>1.232837</td>\n    </tr>\n    <tr>\n      <th>2022-01-08</th>\n      <td>0.800911</td>\n      <td>-1.816093</td>\n      <td>-0.561189</td>\n      <td>1.433234</td>\n    </tr>\n    <tr>\n      <th>2022-01-09</th>\n      <td>0.278477</td>\n      <td>-0.532994</td>\n      <td>-0.192371</td>\n      <td>-0.078092</td>\n    </tr>\n    <tr>\n      <th>2022-01-10</th>\n      <td>0.463482</td>\n      <td>0.284556</td>\n      <td>-1.030208</td>\n      <td>0.405019</td>\n    </tr>\n  </tbody>\n</table>\n</div>"
     },
     "execution_count": 18,
     "metadata": {},
     "output_type": "execute_result"
    }
   ],
   "source": [
    "df.sort_index(axis=0, ascending=True)"
   ],
   "metadata": {
    "collapsed": false,
    "pycharm": {
     "name": "#%%\n"
    }
   }
  },
  {
   "cell_type": "code",
   "execution_count": 19,
   "outputs": [
    {
     "data": {
      "text/plain": "                   A         B         C         D\n2022-01-02 -0.053702 -2.183745  0.903487 -1.617049\n2022-01-08  0.800911 -1.816093 -0.561189  1.433234\n2022-01-03  0.206213 -0.858194 -1.449866 -0.252089\n2022-01-05  0.592490 -0.604580 -1.180370  0.001829\n2022-01-09  0.278477 -0.532994 -0.192371 -0.078092\n2022-01-06  1.509371 -0.493017 -0.964426  0.436751\n2022-01-01  0.106638 -0.225311 -0.713244  0.460247\n2022-01-04 -0.550779  0.051097  0.185565 -0.760471\n2022-01-10  0.463482  0.284556 -1.030208  0.405019\n2022-01-07  0.590318  1.494997 -1.622967  1.232837",
      "text/html": "<div>\n<style scoped>\n    .dataframe tbody tr th:only-of-type {\n        vertical-align: middle;\n    }\n\n    .dataframe tbody tr th {\n        vertical-align: top;\n    }\n\n    .dataframe thead th {\n        text-align: right;\n    }\n</style>\n<table border=\"1\" class=\"dataframe\">\n  <thead>\n    <tr style=\"text-align: right;\">\n      <th></th>\n      <th>A</th>\n      <th>B</th>\n      <th>C</th>\n      <th>D</th>\n    </tr>\n  </thead>\n  <tbody>\n    <tr>\n      <th>2022-01-02</th>\n      <td>-0.053702</td>\n      <td>-2.183745</td>\n      <td>0.903487</td>\n      <td>-1.617049</td>\n    </tr>\n    <tr>\n      <th>2022-01-08</th>\n      <td>0.800911</td>\n      <td>-1.816093</td>\n      <td>-0.561189</td>\n      <td>1.433234</td>\n    </tr>\n    <tr>\n      <th>2022-01-03</th>\n      <td>0.206213</td>\n      <td>-0.858194</td>\n      <td>-1.449866</td>\n      <td>-0.252089</td>\n    </tr>\n    <tr>\n      <th>2022-01-05</th>\n      <td>0.592490</td>\n      <td>-0.604580</td>\n      <td>-1.180370</td>\n      <td>0.001829</td>\n    </tr>\n    <tr>\n      <th>2022-01-09</th>\n      <td>0.278477</td>\n      <td>-0.532994</td>\n      <td>-0.192371</td>\n      <td>-0.078092</td>\n    </tr>\n    <tr>\n      <th>2022-01-06</th>\n      <td>1.509371</td>\n      <td>-0.493017</td>\n      <td>-0.964426</td>\n      <td>0.436751</td>\n    </tr>\n    <tr>\n      <th>2022-01-01</th>\n      <td>0.106638</td>\n      <td>-0.225311</td>\n      <td>-0.713244</td>\n      <td>0.460247</td>\n    </tr>\n    <tr>\n      <th>2022-01-04</th>\n      <td>-0.550779</td>\n      <td>0.051097</td>\n      <td>0.185565</td>\n      <td>-0.760471</td>\n    </tr>\n    <tr>\n      <th>2022-01-10</th>\n      <td>0.463482</td>\n      <td>0.284556</td>\n      <td>-1.030208</td>\n      <td>0.405019</td>\n    </tr>\n    <tr>\n      <th>2022-01-07</th>\n      <td>0.590318</td>\n      <td>1.494997</td>\n      <td>-1.622967</td>\n      <td>1.232837</td>\n    </tr>\n  </tbody>\n</table>\n</div>"
     },
     "execution_count": 19,
     "metadata": {},
     "output_type": "execute_result"
    }
   ],
   "source": [
    "df.sort_values(by='B')"
   ],
   "metadata": {
    "collapsed": false,
    "pycharm": {
     "name": "#%%\n"
    }
   }
  },
  {
   "cell_type": "markdown",
   "source": [
    "- Selecting a Particular Column or Rows"
   ],
   "metadata": {
    "collapsed": false,
    "pycharm": {
     "name": "#%% md\n"
    }
   }
  },
  {
   "cell_type": "code",
   "execution_count": 20,
   "outputs": [
    {
     "data": {
      "text/plain": "2022-01-01    0.106638\n2022-01-02   -0.053702\n2022-01-03    0.206213\n2022-01-04   -0.550779\n2022-01-05    0.592490\n2022-01-06    1.509371\n2022-01-07    0.590318\n2022-01-08    0.800911\n2022-01-09    0.278477\n2022-01-10    0.463482\nFreq: D, Name: A, dtype: float64"
     },
     "execution_count": 20,
     "metadata": {},
     "output_type": "execute_result"
    }
   ],
   "source": [
    "df['A']"
   ],
   "metadata": {
    "collapsed": false,
    "pycharm": {
     "name": "#%%\n"
    }
   }
  },
  {
   "cell_type": "code",
   "execution_count": 23,
   "outputs": [
    {
     "data": {
      "text/plain": "                   A         B         C         D\n2022-01-01  0.106638 -0.225311 -0.713244  0.460247\n2022-01-02 -0.053702 -2.183745  0.903487 -1.617049\n2022-01-03  0.206213 -0.858194 -1.449866 -0.252089",
      "text/html": "<div>\n<style scoped>\n    .dataframe tbody tr th:only-of-type {\n        vertical-align: middle;\n    }\n\n    .dataframe tbody tr th {\n        vertical-align: top;\n    }\n\n    .dataframe thead th {\n        text-align: right;\n    }\n</style>\n<table border=\"1\" class=\"dataframe\">\n  <thead>\n    <tr style=\"text-align: right;\">\n      <th></th>\n      <th>A</th>\n      <th>B</th>\n      <th>C</th>\n      <th>D</th>\n    </tr>\n  </thead>\n  <tbody>\n    <tr>\n      <th>2022-01-01</th>\n      <td>0.106638</td>\n      <td>-0.225311</td>\n      <td>-0.713244</td>\n      <td>0.460247</td>\n    </tr>\n    <tr>\n      <th>2022-01-02</th>\n      <td>-0.053702</td>\n      <td>-2.183745</td>\n      <td>0.903487</td>\n      <td>-1.617049</td>\n    </tr>\n    <tr>\n      <th>2022-01-03</th>\n      <td>0.206213</td>\n      <td>-0.858194</td>\n      <td>-1.449866</td>\n      <td>-0.252089</td>\n    </tr>\n  </tbody>\n</table>\n</div>"
     },
     "execution_count": 23,
     "metadata": {},
     "output_type": "execute_result"
    }
   ],
   "source": [
    "df[0:3]"
   ],
   "metadata": {
    "collapsed": false,
    "pycharm": {
     "name": "#%%\n"
    }
   }
  },
  {
   "cell_type": "markdown",
   "source": [
    "# Filtering data"
   ],
   "metadata": {
    "collapsed": false,
    "pycharm": {
     "name": "#%% md\n"
    }
   }
  },
  {
   "cell_type": "code",
   "execution_count": 22,
   "outputs": [
    {
     "data": {
      "text/plain": "A    0.206213\nB   -0.858194\nC   -1.449866\nD   -0.252089\nName: 2022-01-03 00:00:00, dtype: float64"
     },
     "execution_count": 22,
     "metadata": {},
     "output_type": "execute_result"
    }
   ],
   "source": [
    "df.loc[dates[2]] # row wise slicing"
   ],
   "metadata": {
    "collapsed": false,
    "pycharm": {
     "name": "#%%\n"
    }
   }
  },
  {
   "cell_type": "markdown",
   "source": [
    "- Getting data of Particular column with Particular rows"
   ],
   "metadata": {
    "collapsed": false,
    "pycharm": {
     "name": "#%% md\n"
    }
   }
  },
  {
   "cell_type": "code",
   "execution_count": 28,
   "outputs": [
    {
     "data": {
      "text/plain": "                   A         B\n2022-01-03  0.206213 -0.858194\n2022-01-04 -0.550779  0.051097\n2022-01-05  0.592490 -0.604580\n2022-01-06  1.509371 -0.493017\n2022-01-07  0.590318  1.494997\n2022-01-08  0.800911 -1.816093\n2022-01-09  0.278477 -0.532994\n2022-01-10  0.463482  0.284556",
      "text/html": "<div>\n<style scoped>\n    .dataframe tbody tr th:only-of-type {\n        vertical-align: middle;\n    }\n\n    .dataframe tbody tr th {\n        vertical-align: top;\n    }\n\n    .dataframe thead th {\n        text-align: right;\n    }\n</style>\n<table border=\"1\" class=\"dataframe\">\n  <thead>\n    <tr style=\"text-align: right;\">\n      <th></th>\n      <th>A</th>\n      <th>B</th>\n    </tr>\n  </thead>\n  <tbody>\n    <tr>\n      <th>2022-01-03</th>\n      <td>0.206213</td>\n      <td>-0.858194</td>\n    </tr>\n    <tr>\n      <th>2022-01-04</th>\n      <td>-0.550779</td>\n      <td>0.051097</td>\n    </tr>\n    <tr>\n      <th>2022-01-05</th>\n      <td>0.592490</td>\n      <td>-0.604580</td>\n    </tr>\n    <tr>\n      <th>2022-01-06</th>\n      <td>1.509371</td>\n      <td>-0.493017</td>\n    </tr>\n    <tr>\n      <th>2022-01-07</th>\n      <td>0.590318</td>\n      <td>1.494997</td>\n    </tr>\n    <tr>\n      <th>2022-01-08</th>\n      <td>0.800911</td>\n      <td>-1.816093</td>\n    </tr>\n    <tr>\n      <th>2022-01-09</th>\n      <td>0.278477</td>\n      <td>-0.532994</td>\n    </tr>\n    <tr>\n      <th>2022-01-10</th>\n      <td>0.463482</td>\n      <td>0.284556</td>\n    </tr>\n  </tbody>\n</table>\n</div>"
     },
     "execution_count": 28,
     "metadata": {},
     "output_type": "execute_result"
    }
   ],
   "source": [
    "df.loc[:,[\"A\", \"B\"]] #Column wise"
   ],
   "metadata": {
    "collapsed": false,
    "pycharm": {
     "name": "#%%\n"
    }
   }
  },
  {
   "cell_type": "code",
   "execution_count": 31,
   "outputs": [
    {
     "data": {
      "text/plain": "                   A         B\n2022-01-03  0.206213 -0.858194\n2022-01-04 -0.550779  0.051097",
      "text/html": "<div>\n<style scoped>\n    .dataframe tbody tr th:only-of-type {\n        vertical-align: middle;\n    }\n\n    .dataframe tbody tr th {\n        vertical-align: top;\n    }\n\n    .dataframe thead th {\n        text-align: right;\n    }\n</style>\n<table border=\"1\" class=\"dataframe\">\n  <thead>\n    <tr style=\"text-align: right;\">\n      <th></th>\n      <th>A</th>\n      <th>B</th>\n    </tr>\n  </thead>\n  <tbody>\n    <tr>\n      <th>2022-01-03</th>\n      <td>0.206213</td>\n      <td>-0.858194</td>\n    </tr>\n    <tr>\n      <th>2022-01-04</th>\n      <td>-0.550779</td>\n      <td>0.051097</td>\n    </tr>\n  </tbody>\n</table>\n</div>"
     },
     "execution_count": 31,
     "metadata": {},
     "output_type": "execute_result"
    }
   ],
   "source": [
    "df.loc[\"2022-01-03\":\"2022-01-04\":,[\"A\", \"B\"]]"
   ],
   "metadata": {
    "collapsed": false,
    "pycharm": {
     "name": "#%%\n"
    }
   }
  },
  {
   "cell_type": "code",
   "execution_count": 33,
   "outputs": [
    {
     "data": {
      "text/plain": "                   A         B         C\n2022-01-03  0.206213 -0.858194 -1.449866\n2022-01-04 -0.550779  0.051097  0.185565",
      "text/html": "<div>\n<style scoped>\n    .dataframe tbody tr th:only-of-type {\n        vertical-align: middle;\n    }\n\n    .dataframe tbody tr th {\n        vertical-align: top;\n    }\n\n    .dataframe thead th {\n        text-align: right;\n    }\n</style>\n<table border=\"1\" class=\"dataframe\">\n  <thead>\n    <tr style=\"text-align: right;\">\n      <th></th>\n      <th>A</th>\n      <th>B</th>\n      <th>C</th>\n    </tr>\n  </thead>\n  <tbody>\n    <tr>\n      <th>2022-01-03</th>\n      <td>0.206213</td>\n      <td>-0.858194</td>\n      <td>-1.449866</td>\n    </tr>\n    <tr>\n      <th>2022-01-04</th>\n      <td>-0.550779</td>\n      <td>0.051097</td>\n      <td>0.185565</td>\n    </tr>\n  </tbody>\n</table>\n</div>"
     },
     "execution_count": 33,
     "metadata": {},
     "output_type": "execute_result"
    }
   ],
   "source": [
    "df.loc[\"2022-01-03\":\"2022-01-04\":,[\"A\", \"B\",\"C\"]]"
   ],
   "metadata": {
    "collapsed": false,
    "pycharm": {
     "name": "#%%\n"
    }
   }
  },
  {
   "cell_type": "code",
   "execution_count": 36,
   "outputs": [
    {
     "data": {
      "text/plain": "                   A         B         C\n2022-01-04 -0.550779  0.051097  0.185565\n2022-01-05  0.592490 -0.604580 -1.180370\n2022-01-06  1.509371 -0.493017 -0.964426\n2022-01-07  0.590318  1.494997 -1.622967\n2022-01-08  0.800911 -1.816093 -0.561189\n2022-01-09  0.278477 -0.532994 -0.192371\n2022-01-10  0.463482  0.284556 -1.030208",
      "text/html": "<div>\n<style scoped>\n    .dataframe tbody tr th:only-of-type {\n        vertical-align: middle;\n    }\n\n    .dataframe tbody tr th {\n        vertical-align: top;\n    }\n\n    .dataframe thead th {\n        text-align: right;\n    }\n</style>\n<table border=\"1\" class=\"dataframe\">\n  <thead>\n    <tr style=\"text-align: right;\">\n      <th></th>\n      <th>A</th>\n      <th>B</th>\n      <th>C</th>\n    </tr>\n  </thead>\n  <tbody>\n    <tr>\n      <th>2022-01-04</th>\n      <td>-0.550779</td>\n      <td>0.051097</td>\n      <td>0.185565</td>\n    </tr>\n    <tr>\n      <th>2022-01-05</th>\n      <td>0.592490</td>\n      <td>-0.604580</td>\n      <td>-1.180370</td>\n    </tr>\n    <tr>\n      <th>2022-01-06</th>\n      <td>1.509371</td>\n      <td>-0.493017</td>\n      <td>-0.964426</td>\n    </tr>\n    <tr>\n      <th>2022-01-07</th>\n      <td>0.590318</td>\n      <td>1.494997</td>\n      <td>-1.622967</td>\n    </tr>\n    <tr>\n      <th>2022-01-08</th>\n      <td>0.800911</td>\n      <td>-1.816093</td>\n      <td>-0.561189</td>\n    </tr>\n    <tr>\n      <th>2022-01-09</th>\n      <td>0.278477</td>\n      <td>-0.532994</td>\n      <td>-0.192371</td>\n    </tr>\n    <tr>\n      <th>2022-01-10</th>\n      <td>0.463482</td>\n      <td>0.284556</td>\n      <td>-1.030208</td>\n    </tr>\n  </tbody>\n</table>\n</div>"
     },
     "execution_count": 36,
     "metadata": {},
     "output_type": "execute_result"
    }
   ],
   "source": [
    "df.loc[\"2022-01-04\":,[\"A\", \"B\",\"C\"]]"
   ],
   "metadata": {
    "collapsed": false,
    "pycharm": {
     "name": "#%%\n"
    }
   }
  },
  {
   "cell_type": "code",
   "execution_count": 37,
   "outputs": [
    {
     "data": {
      "text/plain": "                   A         B         C\n2022-01-03  0.206213 -0.858194 -1.449866\n2022-01-04 -0.550779  0.051097  0.185565\n2022-01-05  0.592490 -0.604580 -1.180370\n2022-01-06  1.509371 -0.493017 -0.964426\n2022-01-07  0.590318  1.494997 -1.622967\n2022-01-08  0.800911 -1.816093 -0.561189\n2022-01-09  0.278477 -0.532994 -0.192371\n2022-01-10  0.463482  0.284556 -1.030208",
      "text/html": "<div>\n<style scoped>\n    .dataframe tbody tr th:only-of-type {\n        vertical-align: middle;\n    }\n\n    .dataframe tbody tr th {\n        vertical-align: top;\n    }\n\n    .dataframe thead th {\n        text-align: right;\n    }\n</style>\n<table border=\"1\" class=\"dataframe\">\n  <thead>\n    <tr style=\"text-align: right;\">\n      <th></th>\n      <th>A</th>\n      <th>B</th>\n      <th>C</th>\n    </tr>\n  </thead>\n  <tbody>\n    <tr>\n      <th>2022-01-03</th>\n      <td>0.206213</td>\n      <td>-0.858194</td>\n      <td>-1.449866</td>\n    </tr>\n    <tr>\n      <th>2022-01-04</th>\n      <td>-0.550779</td>\n      <td>0.051097</td>\n      <td>0.185565</td>\n    </tr>\n    <tr>\n      <th>2022-01-05</th>\n      <td>0.592490</td>\n      <td>-0.604580</td>\n      <td>-1.180370</td>\n    </tr>\n    <tr>\n      <th>2022-01-06</th>\n      <td>1.509371</td>\n      <td>-0.493017</td>\n      <td>-0.964426</td>\n    </tr>\n    <tr>\n      <th>2022-01-07</th>\n      <td>0.590318</td>\n      <td>1.494997</td>\n      <td>-1.622967</td>\n    </tr>\n    <tr>\n      <th>2022-01-08</th>\n      <td>0.800911</td>\n      <td>-1.816093</td>\n      <td>-0.561189</td>\n    </tr>\n    <tr>\n      <th>2022-01-09</th>\n      <td>0.278477</td>\n      <td>-0.532994</td>\n      <td>-0.192371</td>\n    </tr>\n    <tr>\n      <th>2022-01-10</th>\n      <td>0.463482</td>\n      <td>0.284556</td>\n      <td>-1.030208</td>\n    </tr>\n  </tbody>\n</table>\n</div>"
     },
     "execution_count": 37,
     "metadata": {},
     "output_type": "execute_result"
    }
   ],
   "source": [
    "df.loc[dates[2]:,[\"A\", \"B\",\"C\"]]"
   ],
   "metadata": {
    "collapsed": false,
    "pycharm": {
     "name": "#%%\n"
    }
   }
  },
  {
   "cell_type": "markdown",
   "source": [
    "# Get Value at Certain row and Column"
   ],
   "metadata": {
    "collapsed": false,
    "pycharm": {
     "name": "#%% md\n"
    }
   }
  },
  {
   "cell_type": "code",
   "execution_count": 38,
   "outputs": [
    {
     "data": {
      "text/plain": "0.9034871770317171"
     },
     "execution_count": 38,
     "metadata": {},
     "output_type": "execute_result"
    }
   ],
   "source": [
    "df.at[dates[1],\"C\"]"
   ],
   "metadata": {
    "collapsed": false,
    "pycharm": {
     "name": "#%%\n"
    }
   }
  },
  {
   "cell_type": "markdown",
   "source": [
    "# Get Value at Certain posiion"
   ],
   "metadata": {
    "collapsed": false,
    "pycharm": {
     "name": "#%% md\n"
    }
   }
  },
  {
   "cell_type": "code",
   "execution_count": 39,
   "outputs": [
    {
     "data": {
      "text/plain": "A   -0.550779\nB    0.051097\nC    0.185565\nD   -0.760471\nName: 2022-01-04 00:00:00, dtype: float64"
     },
     "execution_count": 39,
     "metadata": {},
     "output_type": "execute_result"
    }
   ],
   "source": [
    "df.iloc[3]"
   ],
   "metadata": {
    "collapsed": false,
    "pycharm": {
     "name": "#%%\n"
    }
   }
  },
  {
   "cell_type": "code",
   "execution_count": 41,
   "outputs": [
    {
     "data": {
      "text/plain": "                   A         B         C         D\n2022-01-01  0.106638 -0.225311 -0.713244  0.460247\n2022-01-02 -0.053702 -2.183745  0.903487 -1.617049\n2022-01-03  0.206213 -0.858194 -1.449866 -0.252089",
      "text/html": "<div>\n<style scoped>\n    .dataframe tbody tr th:only-of-type {\n        vertical-align: middle;\n    }\n\n    .dataframe tbody tr th {\n        vertical-align: top;\n    }\n\n    .dataframe thead th {\n        text-align: right;\n    }\n</style>\n<table border=\"1\" class=\"dataframe\">\n  <thead>\n    <tr style=\"text-align: right;\">\n      <th></th>\n      <th>A</th>\n      <th>B</th>\n      <th>C</th>\n      <th>D</th>\n    </tr>\n  </thead>\n  <tbody>\n    <tr>\n      <th>2022-01-01</th>\n      <td>0.106638</td>\n      <td>-0.225311</td>\n      <td>-0.713244</td>\n      <td>0.460247</td>\n    </tr>\n    <tr>\n      <th>2022-01-02</th>\n      <td>-0.053702</td>\n      <td>-2.183745</td>\n      <td>0.903487</td>\n      <td>-1.617049</td>\n    </tr>\n    <tr>\n      <th>2022-01-03</th>\n      <td>0.206213</td>\n      <td>-0.858194</td>\n      <td>-1.449866</td>\n      <td>-0.252089</td>\n    </tr>\n  </tbody>\n</table>\n</div>"
     },
     "execution_count": 41,
     "metadata": {},
     "output_type": "execute_result"
    }
   ],
   "source": [
    "df.iloc[0:3]"
   ],
   "metadata": {
    "collapsed": false,
    "pycharm": {
     "name": "#%%\n"
    }
   }
  },
  {
   "cell_type": "code",
   "execution_count": 43,
   "outputs": [
    {
     "data": {
      "text/plain": "                   A         B         C\n2022-01-01  0.106638 -0.225311 -0.713244\n2022-01-02 -0.053702 -2.183745  0.903487\n2022-01-03  0.206213 -0.858194 -1.449866\n2022-01-04 -0.550779  0.051097  0.185565",
      "text/html": "<div>\n<style scoped>\n    .dataframe tbody tr th:only-of-type {\n        vertical-align: middle;\n    }\n\n    .dataframe tbody tr th {\n        vertical-align: top;\n    }\n\n    .dataframe thead th {\n        text-align: right;\n    }\n</style>\n<table border=\"1\" class=\"dataframe\">\n  <thead>\n    <tr style=\"text-align: right;\">\n      <th></th>\n      <th>A</th>\n      <th>B</th>\n      <th>C</th>\n    </tr>\n  </thead>\n  <tbody>\n    <tr>\n      <th>2022-01-01</th>\n      <td>0.106638</td>\n      <td>-0.225311</td>\n      <td>-0.713244</td>\n    </tr>\n    <tr>\n      <th>2022-01-02</th>\n      <td>-0.053702</td>\n      <td>-2.183745</td>\n      <td>0.903487</td>\n    </tr>\n    <tr>\n      <th>2022-01-03</th>\n      <td>0.206213</td>\n      <td>-0.858194</td>\n      <td>-1.449866</td>\n    </tr>\n    <tr>\n      <th>2022-01-04</th>\n      <td>-0.550779</td>\n      <td>0.051097</td>\n      <td>0.185565</td>\n    </tr>\n  </tbody>\n</table>\n</div>"
     },
     "execution_count": 43,
     "metadata": {},
     "output_type": "execute_result"
    }
   ],
   "source": [
    "df.iloc[0:4, 0:3]"
   ],
   "metadata": {
    "collapsed": false,
    "pycharm": {
     "name": "#%%\n"
    }
   }
  },
  {
   "cell_type": "markdown",
   "source": [
    "# Boolean : Filter data on Condition"
   ],
   "metadata": {
    "collapsed": false,
    "pycharm": {
     "name": "#%% md\n"
    }
   }
  },
  {
   "cell_type": "code",
   "execution_count": 46,
   "outputs": [
    {
     "data": {
      "text/plain": "                   A         B         C         D\n2022-01-05  0.592490 -0.604580 -1.180370  0.001829\n2022-01-06  1.509371 -0.493017 -0.964426  0.436751\n2022-01-07  0.590318  1.494997 -1.622967  1.232837\n2022-01-08  0.800911 -1.816093 -0.561189  1.433234",
      "text/html": "<div>\n<style scoped>\n    .dataframe tbody tr th:only-of-type {\n        vertical-align: middle;\n    }\n\n    .dataframe tbody tr th {\n        vertical-align: top;\n    }\n\n    .dataframe thead th {\n        text-align: right;\n    }\n</style>\n<table border=\"1\" class=\"dataframe\">\n  <thead>\n    <tr style=\"text-align: right;\">\n      <th></th>\n      <th>A</th>\n      <th>B</th>\n      <th>C</th>\n      <th>D</th>\n    </tr>\n  </thead>\n  <tbody>\n    <tr>\n      <th>2022-01-05</th>\n      <td>0.592490</td>\n      <td>-0.604580</td>\n      <td>-1.180370</td>\n      <td>0.001829</td>\n    </tr>\n    <tr>\n      <th>2022-01-06</th>\n      <td>1.509371</td>\n      <td>-0.493017</td>\n      <td>-0.964426</td>\n      <td>0.436751</td>\n    </tr>\n    <tr>\n      <th>2022-01-07</th>\n      <td>0.590318</td>\n      <td>1.494997</td>\n      <td>-1.622967</td>\n      <td>1.232837</td>\n    </tr>\n    <tr>\n      <th>2022-01-08</th>\n      <td>0.800911</td>\n      <td>-1.816093</td>\n      <td>-0.561189</td>\n      <td>1.433234</td>\n    </tr>\n  </tbody>\n</table>\n</div>"
     },
     "execution_count": 46,
     "metadata": {},
     "output_type": "execute_result"
    }
   ],
   "source": [
    "df[df['A']>0.5]"
   ],
   "metadata": {
    "collapsed": false,
    "pycharm": {
     "name": "#%%\n"
    }
   }
  },
  {
   "cell_type": "code",
   "execution_count": 52,
   "outputs": [
    {
     "ename": "InvalidIndexError",
     "evalue": "(2022-01-01    False\n2022-01-02    False\n2022-01-03    False\n2022-01-04    False\n2022-01-05     True\n2022-01-06     True\n2022-01-07     True\n2022-01-08     True\n2022-01-09    False\n2022-01-10    False\nFreq: D, Name: A, dtype: bool, 2022-01-01     True\n2022-01-02     True\n2022-01-03     True\n2022-01-04     True\n2022-01-05     True\n2022-01-06     True\n2022-01-07    False\n2022-01-08     True\n2022-01-09     True\n2022-01-10     True\nFreq: D, Name: B, dtype: bool)",
     "output_type": "error",
     "traceback": [
      "\u001B[1;31m---------------------------------------------------------------------------\u001B[0m",
      "\u001B[1;31mTypeError\u001B[0m                                 Traceback (most recent call last)",
      "File \u001B[1;32mC:\\Python310\\lib\\site-packages\\pandas\\core\\indexes\\base.py:3621\u001B[0m, in \u001B[0;36mIndex.get_loc\u001B[1;34m(self, key, method, tolerance)\u001B[0m\n\u001B[0;32m   3620\u001B[0m \u001B[38;5;28;01mtry\u001B[39;00m:\n\u001B[1;32m-> 3621\u001B[0m     \u001B[38;5;28;01mreturn\u001B[39;00m \u001B[38;5;28;43mself\u001B[39;49m\u001B[38;5;241;43m.\u001B[39;49m\u001B[43m_engine\u001B[49m\u001B[38;5;241;43m.\u001B[39;49m\u001B[43mget_loc\u001B[49m\u001B[43m(\u001B[49m\u001B[43mcasted_key\u001B[49m\u001B[43m)\u001B[49m\n\u001B[0;32m   3622\u001B[0m \u001B[38;5;28;01mexcept\u001B[39;00m \u001B[38;5;167;01mKeyError\u001B[39;00m \u001B[38;5;28;01mas\u001B[39;00m err:\n",
      "File \u001B[1;32mC:\\Python310\\lib\\site-packages\\pandas\\_libs\\index.pyx:136\u001B[0m, in \u001B[0;36mpandas._libs.index.IndexEngine.get_loc\u001B[1;34m()\u001B[0m\n",
      "File \u001B[1;32mC:\\Python310\\lib\\site-packages\\pandas\\_libs\\index.pyx:142\u001B[0m, in \u001B[0;36mpandas._libs.index.IndexEngine.get_loc\u001B[1;34m()\u001B[0m\n",
      "\u001B[1;31mTypeError\u001B[0m: '(2022-01-01    False\n2022-01-02    False\n2022-01-03    False\n2022-01-04    False\n2022-01-05     True\n2022-01-06     True\n2022-01-07     True\n2022-01-08     True\n2022-01-09    False\n2022-01-10    False\nFreq: D, Name: A, dtype: bool, 2022-01-01     True\n2022-01-02     True\n2022-01-03     True\n2022-01-04     True\n2022-01-05     True\n2022-01-06     True\n2022-01-07    False\n2022-01-08     True\n2022-01-09     True\n2022-01-10     True\nFreq: D, Name: B, dtype: bool)' is an invalid key",
      "\nDuring handling of the above exception, another exception occurred:\n",
      "\u001B[1;31mInvalidIndexError\u001B[0m                         Traceback (most recent call last)",
      "Input \u001B[1;32mIn [52]\u001B[0m, in \u001B[0;36m<cell line: 1>\u001B[1;34m()\u001B[0m\n\u001B[1;32m----> 1\u001B[0m \u001B[43mdf\u001B[49m\u001B[43m[\u001B[49m\u001B[43mdf\u001B[49m\u001B[43m[\u001B[49m\u001B[38;5;124;43m'\u001B[39;49m\u001B[38;5;124;43mA\u001B[39;49m\u001B[38;5;124;43m'\u001B[39;49m\u001B[43m]\u001B[49m\u001B[38;5;241;43m>\u001B[39;49m\u001B[38;5;241;43m0.5\u001B[39;49m\u001B[43m \u001B[49m\u001B[43m,\u001B[49m\u001B[43m \u001B[49m\u001B[43mdf\u001B[49m\u001B[43m[\u001B[49m\u001B[38;5;124;43m'\u001B[39;49m\u001B[38;5;124;43mB\u001B[39;49m\u001B[38;5;124;43m'\u001B[39;49m\u001B[43m]\u001B[49m\u001B[38;5;241;43m<\u001B[39;49m\u001B[38;5;241;43m0.5\u001B[39;49m\u001B[43m \u001B[49m\u001B[43m]\u001B[49m\n",
      "File \u001B[1;32mC:\\Python310\\lib\\site-packages\\pandas\\core\\frame.py:3505\u001B[0m, in \u001B[0;36mDataFrame.__getitem__\u001B[1;34m(self, key)\u001B[0m\n\u001B[0;32m   3503\u001B[0m \u001B[38;5;28;01mif\u001B[39;00m \u001B[38;5;28mself\u001B[39m\u001B[38;5;241m.\u001B[39mcolumns\u001B[38;5;241m.\u001B[39mnlevels \u001B[38;5;241m>\u001B[39m \u001B[38;5;241m1\u001B[39m:\n\u001B[0;32m   3504\u001B[0m     \u001B[38;5;28;01mreturn\u001B[39;00m \u001B[38;5;28mself\u001B[39m\u001B[38;5;241m.\u001B[39m_getitem_multilevel(key)\n\u001B[1;32m-> 3505\u001B[0m indexer \u001B[38;5;241m=\u001B[39m \u001B[38;5;28;43mself\u001B[39;49m\u001B[38;5;241;43m.\u001B[39;49m\u001B[43mcolumns\u001B[49m\u001B[38;5;241;43m.\u001B[39;49m\u001B[43mget_loc\u001B[49m\u001B[43m(\u001B[49m\u001B[43mkey\u001B[49m\u001B[43m)\u001B[49m\n\u001B[0;32m   3506\u001B[0m \u001B[38;5;28;01mif\u001B[39;00m is_integer(indexer):\n\u001B[0;32m   3507\u001B[0m     indexer \u001B[38;5;241m=\u001B[39m [indexer]\n",
      "File \u001B[1;32mC:\\Python310\\lib\\site-packages\\pandas\\core\\indexes\\base.py:3628\u001B[0m, in \u001B[0;36mIndex.get_loc\u001B[1;34m(self, key, method, tolerance)\u001B[0m\n\u001B[0;32m   3623\u001B[0m         \u001B[38;5;28;01mraise\u001B[39;00m \u001B[38;5;167;01mKeyError\u001B[39;00m(key) \u001B[38;5;28;01mfrom\u001B[39;00m \u001B[38;5;21;01merr\u001B[39;00m\n\u001B[0;32m   3624\u001B[0m     \u001B[38;5;28;01mexcept\u001B[39;00m \u001B[38;5;167;01mTypeError\u001B[39;00m:\n\u001B[0;32m   3625\u001B[0m         \u001B[38;5;66;03m# If we have a listlike key, _check_indexing_error will raise\u001B[39;00m\n\u001B[0;32m   3626\u001B[0m         \u001B[38;5;66;03m#  InvalidIndexError. Otherwise we fall through and re-raise\u001B[39;00m\n\u001B[0;32m   3627\u001B[0m         \u001B[38;5;66;03m#  the TypeError.\u001B[39;00m\n\u001B[1;32m-> 3628\u001B[0m         \u001B[38;5;28;43mself\u001B[39;49m\u001B[38;5;241;43m.\u001B[39;49m\u001B[43m_check_indexing_error\u001B[49m\u001B[43m(\u001B[49m\u001B[43mkey\u001B[49m\u001B[43m)\u001B[49m\n\u001B[0;32m   3629\u001B[0m         \u001B[38;5;28;01mraise\u001B[39;00m\n\u001B[0;32m   3631\u001B[0m \u001B[38;5;66;03m# GH#42269\u001B[39;00m\n",
      "File \u001B[1;32mC:\\Python310\\lib\\site-packages\\pandas\\core\\indexes\\base.py:5637\u001B[0m, in \u001B[0;36mIndex._check_indexing_error\u001B[1;34m(self, key)\u001B[0m\n\u001B[0;32m   5633\u001B[0m \u001B[38;5;28;01mdef\u001B[39;00m \u001B[38;5;21m_check_indexing_error\u001B[39m(\u001B[38;5;28mself\u001B[39m, key):\n\u001B[0;32m   5634\u001B[0m     \u001B[38;5;28;01mif\u001B[39;00m \u001B[38;5;129;01mnot\u001B[39;00m is_scalar(key):\n\u001B[0;32m   5635\u001B[0m         \u001B[38;5;66;03m# if key is not a scalar, directly raise an error (the code below\u001B[39;00m\n\u001B[0;32m   5636\u001B[0m         \u001B[38;5;66;03m# would convert to numpy arrays and raise later any way) - GH29926\u001B[39;00m\n\u001B[1;32m-> 5637\u001B[0m         \u001B[38;5;28;01mraise\u001B[39;00m InvalidIndexError(key)\n",
      "\u001B[1;31mInvalidIndexError\u001B[0m: (2022-01-01    False\n2022-01-02    False\n2022-01-03    False\n2022-01-04    False\n2022-01-05     True\n2022-01-06     True\n2022-01-07     True\n2022-01-08     True\n2022-01-09    False\n2022-01-10    False\nFreq: D, Name: A, dtype: bool, 2022-01-01     True\n2022-01-02     True\n2022-01-03     True\n2022-01-04     True\n2022-01-05     True\n2022-01-06     True\n2022-01-07    False\n2022-01-08     True\n2022-01-09     True\n2022-01-10     True\nFreq: D, Name: B, dtype: bool)"
     ]
    }
   ],
   "source": [
    "df[df['A']>0.5 , df['B']<0.5 ]"
   ],
   "metadata": {
    "collapsed": false,
    "pycharm": {
     "name": "#%%\n"
    }
   }
  },
  {
   "cell_type": "code",
   "execution_count": 53,
   "outputs": [
    {
     "data": {
      "text/plain": "                   A         B         C         D\n2022-01-01       NaN       NaN       NaN       NaN\n2022-01-02       NaN       NaN  0.903487       NaN\n2022-01-03       NaN       NaN       NaN       NaN\n2022-01-04       NaN       NaN       NaN       NaN\n2022-01-05       NaN       NaN       NaN       NaN\n2022-01-06  1.509371       NaN       NaN       NaN\n2022-01-07       NaN  1.494997       NaN  1.232837\n2022-01-08  0.800911       NaN       NaN  1.433234\n2022-01-09       NaN       NaN       NaN       NaN\n2022-01-10       NaN       NaN       NaN       NaN",
      "text/html": "<div>\n<style scoped>\n    .dataframe tbody tr th:only-of-type {\n        vertical-align: middle;\n    }\n\n    .dataframe tbody tr th {\n        vertical-align: top;\n    }\n\n    .dataframe thead th {\n        text-align: right;\n    }\n</style>\n<table border=\"1\" class=\"dataframe\">\n  <thead>\n    <tr style=\"text-align: right;\">\n      <th></th>\n      <th>A</th>\n      <th>B</th>\n      <th>C</th>\n      <th>D</th>\n    </tr>\n  </thead>\n  <tbody>\n    <tr>\n      <th>2022-01-01</th>\n      <td>NaN</td>\n      <td>NaN</td>\n      <td>NaN</td>\n      <td>NaN</td>\n    </tr>\n    <tr>\n      <th>2022-01-02</th>\n      <td>NaN</td>\n      <td>NaN</td>\n      <td>0.903487</td>\n      <td>NaN</td>\n    </tr>\n    <tr>\n      <th>2022-01-03</th>\n      <td>NaN</td>\n      <td>NaN</td>\n      <td>NaN</td>\n      <td>NaN</td>\n    </tr>\n    <tr>\n      <th>2022-01-04</th>\n      <td>NaN</td>\n      <td>NaN</td>\n      <td>NaN</td>\n      <td>NaN</td>\n    </tr>\n    <tr>\n      <th>2022-01-05</th>\n      <td>NaN</td>\n      <td>NaN</td>\n      <td>NaN</td>\n      <td>NaN</td>\n    </tr>\n    <tr>\n      <th>2022-01-06</th>\n      <td>1.509371</td>\n      <td>NaN</td>\n      <td>NaN</td>\n      <td>NaN</td>\n    </tr>\n    <tr>\n      <th>2022-01-07</th>\n      <td>NaN</td>\n      <td>1.494997</td>\n      <td>NaN</td>\n      <td>1.232837</td>\n    </tr>\n    <tr>\n      <th>2022-01-08</th>\n      <td>0.800911</td>\n      <td>NaN</td>\n      <td>NaN</td>\n      <td>1.433234</td>\n    </tr>\n    <tr>\n      <th>2022-01-09</th>\n      <td>NaN</td>\n      <td>NaN</td>\n      <td>NaN</td>\n      <td>NaN</td>\n    </tr>\n    <tr>\n      <th>2022-01-10</th>\n      <td>NaN</td>\n      <td>NaN</td>\n      <td>NaN</td>\n      <td>NaN</td>\n    </tr>\n  </tbody>\n</table>\n</div>"
     },
     "execution_count": 53,
     "metadata": {},
     "output_type": "execute_result"
    }
   ],
   "source": [
    "df[df>0.8]"
   ],
   "metadata": {
    "collapsed": false,
    "pycharm": {
     "name": "#%%\n"
    }
   }
  },
  {
   "cell_type": "markdown",
   "source": [
    "# Copy Data Set"
   ],
   "metadata": {
    "collapsed": false,
    "pycharm": {
     "name": "#%% md\n"
    }
   }
  },
  {
   "cell_type": "code",
   "execution_count": 82,
   "outputs": [
    {
     "data": {
      "text/plain": "                   A         B         C         D\n2022-01-01  0.106638 -0.225311 -0.713244  0.460247\n2022-01-02 -0.053702 -2.183745  0.903487 -1.617049\n2022-01-03  0.206213 -0.858194 -1.449866 -0.252089\n2022-01-04 -0.550779  0.051097  0.185565 -0.760471\n2022-01-05  0.592490 -0.604580 -1.180370  0.001829\n2022-01-06  1.509371 -0.493017 -0.964426  0.436751\n2022-01-07  0.590318  1.494997 -1.622967  1.232837\n2022-01-08  0.800911 -1.816093 -0.561189  1.433234\n2022-01-09  0.278477 -0.532994 -0.192371 -0.078092\n2022-01-10  0.463482  0.284556 -1.030208  0.405019",
      "text/html": "<div>\n<style scoped>\n    .dataframe tbody tr th:only-of-type {\n        vertical-align: middle;\n    }\n\n    .dataframe tbody tr th {\n        vertical-align: top;\n    }\n\n    .dataframe thead th {\n        text-align: right;\n    }\n</style>\n<table border=\"1\" class=\"dataframe\">\n  <thead>\n    <tr style=\"text-align: right;\">\n      <th></th>\n      <th>A</th>\n      <th>B</th>\n      <th>C</th>\n      <th>D</th>\n    </tr>\n  </thead>\n  <tbody>\n    <tr>\n      <th>2022-01-01</th>\n      <td>0.106638</td>\n      <td>-0.225311</td>\n      <td>-0.713244</td>\n      <td>0.460247</td>\n    </tr>\n    <tr>\n      <th>2022-01-02</th>\n      <td>-0.053702</td>\n      <td>-2.183745</td>\n      <td>0.903487</td>\n      <td>-1.617049</td>\n    </tr>\n    <tr>\n      <th>2022-01-03</th>\n      <td>0.206213</td>\n      <td>-0.858194</td>\n      <td>-1.449866</td>\n      <td>-0.252089</td>\n    </tr>\n    <tr>\n      <th>2022-01-04</th>\n      <td>-0.550779</td>\n      <td>0.051097</td>\n      <td>0.185565</td>\n      <td>-0.760471</td>\n    </tr>\n    <tr>\n      <th>2022-01-05</th>\n      <td>0.592490</td>\n      <td>-0.604580</td>\n      <td>-1.180370</td>\n      <td>0.001829</td>\n    </tr>\n    <tr>\n      <th>2022-01-06</th>\n      <td>1.509371</td>\n      <td>-0.493017</td>\n      <td>-0.964426</td>\n      <td>0.436751</td>\n    </tr>\n    <tr>\n      <th>2022-01-07</th>\n      <td>0.590318</td>\n      <td>1.494997</td>\n      <td>-1.622967</td>\n      <td>1.232837</td>\n    </tr>\n    <tr>\n      <th>2022-01-08</th>\n      <td>0.800911</td>\n      <td>-1.816093</td>\n      <td>-0.561189</td>\n      <td>1.433234</td>\n    </tr>\n    <tr>\n      <th>2022-01-09</th>\n      <td>0.278477</td>\n      <td>-0.532994</td>\n      <td>-0.192371</td>\n      <td>-0.078092</td>\n    </tr>\n    <tr>\n      <th>2022-01-10</th>\n      <td>0.463482</td>\n      <td>0.284556</td>\n      <td>-1.030208</td>\n      <td>0.405019</td>\n    </tr>\n  </tbody>\n</table>\n</div>"
     },
     "execution_count": 82,
     "metadata": {},
     "output_type": "execute_result"
    }
   ],
   "source": [
    "df_2 =df.copy()\n",
    "df_2"
   ],
   "metadata": {
    "collapsed": false,
    "pycharm": {
     "name": "#%%\n"
    }
   }
  },
  {
   "cell_type": "code",
   "execution_count": 84,
   "outputs": [
    {
     "data": {
      "text/plain": "                   A         B         C         D      Mean\n2022-01-01  0.106638 -0.225311 -0.713244  0.460247 -0.092917\n2022-01-02 -0.053702 -2.183745  0.903487 -1.617049 -0.737752\n2022-01-03  0.206213 -0.858194 -1.449866 -0.252089 -0.588484\n2022-01-04 -0.550779  0.051097  0.185565 -0.760471 -0.268647\n2022-01-05  0.592490 -0.604580 -1.180370  0.001829 -0.297658\n2022-01-06  1.509371 -0.493017 -0.964426  0.436751  0.122170\n2022-01-07  0.590318  1.494997 -1.622967  1.232837  0.423796\n2022-01-08  0.800911 -1.816093 -0.561189  1.433234 -0.035784\n2022-01-09  0.278477 -0.532994 -0.192371 -0.078092 -0.131245\n2022-01-10  0.463482  0.284556 -1.030208  0.405019  0.030712",
      "text/html": "<div>\n<style scoped>\n    .dataframe tbody tr th:only-of-type {\n        vertical-align: middle;\n    }\n\n    .dataframe tbody tr th {\n        vertical-align: top;\n    }\n\n    .dataframe thead th {\n        text-align: right;\n    }\n</style>\n<table border=\"1\" class=\"dataframe\">\n  <thead>\n    <tr style=\"text-align: right;\">\n      <th></th>\n      <th>A</th>\n      <th>B</th>\n      <th>C</th>\n      <th>D</th>\n      <th>Mean</th>\n    </tr>\n  </thead>\n  <tbody>\n    <tr>\n      <th>2022-01-01</th>\n      <td>0.106638</td>\n      <td>-0.225311</td>\n      <td>-0.713244</td>\n      <td>0.460247</td>\n      <td>-0.092917</td>\n    </tr>\n    <tr>\n      <th>2022-01-02</th>\n      <td>-0.053702</td>\n      <td>-2.183745</td>\n      <td>0.903487</td>\n      <td>-1.617049</td>\n      <td>-0.737752</td>\n    </tr>\n    <tr>\n      <th>2022-01-03</th>\n      <td>0.206213</td>\n      <td>-0.858194</td>\n      <td>-1.449866</td>\n      <td>-0.252089</td>\n      <td>-0.588484</td>\n    </tr>\n    <tr>\n      <th>2022-01-04</th>\n      <td>-0.550779</td>\n      <td>0.051097</td>\n      <td>0.185565</td>\n      <td>-0.760471</td>\n      <td>-0.268647</td>\n    </tr>\n    <tr>\n      <th>2022-01-05</th>\n      <td>0.592490</td>\n      <td>-0.604580</td>\n      <td>-1.180370</td>\n      <td>0.001829</td>\n      <td>-0.297658</td>\n    </tr>\n    <tr>\n      <th>2022-01-06</th>\n      <td>1.509371</td>\n      <td>-0.493017</td>\n      <td>-0.964426</td>\n      <td>0.436751</td>\n      <td>0.122170</td>\n    </tr>\n    <tr>\n      <th>2022-01-07</th>\n      <td>0.590318</td>\n      <td>1.494997</td>\n      <td>-1.622967</td>\n      <td>1.232837</td>\n      <td>0.423796</td>\n    </tr>\n    <tr>\n      <th>2022-01-08</th>\n      <td>0.800911</td>\n      <td>-1.816093</td>\n      <td>-0.561189</td>\n      <td>1.433234</td>\n      <td>-0.035784</td>\n    </tr>\n    <tr>\n      <th>2022-01-09</th>\n      <td>0.278477</td>\n      <td>-0.532994</td>\n      <td>-0.192371</td>\n      <td>-0.078092</td>\n      <td>-0.131245</td>\n    </tr>\n    <tr>\n      <th>2022-01-10</th>\n      <td>0.463482</td>\n      <td>0.284556</td>\n      <td>-1.030208</td>\n      <td>0.405019</td>\n      <td>0.030712</td>\n    </tr>\n  </tbody>\n</table>\n</div>"
     },
     "execution_count": 84,
     "metadata": {},
     "output_type": "execute_result"
    }
   ],
   "source": [
    "df_2[\"Mean\"]= df_2.mean(axis=1)\n",
    "df_2"
   ],
   "metadata": {
    "collapsed": false,
    "pycharm": {
     "name": "#%%\n"
    }
   }
  },
  {
   "cell_type": "code",
   "execution_count": 85,
   "outputs": [
    {
     "data": {
      "text/plain": "                   A         B         C         D      Mean      E\n2022-01-01  0.106638 -0.225311 -0.713244  0.460247 -0.092917    one\n2022-01-02 -0.053702 -2.183745  0.903487 -1.617049 -0.737752    two\n2022-01-03  0.206213 -0.858194 -1.449866 -0.252089 -0.588484  three\n2022-01-04 -0.550779  0.051097  0.185565 -0.760471 -0.268647   four\n2022-01-05  0.592490 -0.604580 -1.180370  0.001829 -0.297658   five\n2022-01-06  1.509371 -0.493017 -0.964426  0.436751  0.122170    six\n2022-01-07  0.590318  1.494997 -1.622967  1.232837  0.423796  seven\n2022-01-08  0.800911 -1.816093 -0.561189  1.433234 -0.035784  eight\n2022-01-09  0.278477 -0.532994 -0.192371 -0.078092 -0.131245   nine\n2022-01-10  0.463482  0.284556 -1.030208  0.405019  0.030712    ten",
      "text/html": "<div>\n<style scoped>\n    .dataframe tbody tr th:only-of-type {\n        vertical-align: middle;\n    }\n\n    .dataframe tbody tr th {\n        vertical-align: top;\n    }\n\n    .dataframe thead th {\n        text-align: right;\n    }\n</style>\n<table border=\"1\" class=\"dataframe\">\n  <thead>\n    <tr style=\"text-align: right;\">\n      <th></th>\n      <th>A</th>\n      <th>B</th>\n      <th>C</th>\n      <th>D</th>\n      <th>Mean</th>\n      <th>E</th>\n    </tr>\n  </thead>\n  <tbody>\n    <tr>\n      <th>2022-01-01</th>\n      <td>0.106638</td>\n      <td>-0.225311</td>\n      <td>-0.713244</td>\n      <td>0.460247</td>\n      <td>-0.092917</td>\n      <td>one</td>\n    </tr>\n    <tr>\n      <th>2022-01-02</th>\n      <td>-0.053702</td>\n      <td>-2.183745</td>\n      <td>0.903487</td>\n      <td>-1.617049</td>\n      <td>-0.737752</td>\n      <td>two</td>\n    </tr>\n    <tr>\n      <th>2022-01-03</th>\n      <td>0.206213</td>\n      <td>-0.858194</td>\n      <td>-1.449866</td>\n      <td>-0.252089</td>\n      <td>-0.588484</td>\n      <td>three</td>\n    </tr>\n    <tr>\n      <th>2022-01-04</th>\n      <td>-0.550779</td>\n      <td>0.051097</td>\n      <td>0.185565</td>\n      <td>-0.760471</td>\n      <td>-0.268647</td>\n      <td>four</td>\n    </tr>\n    <tr>\n      <th>2022-01-05</th>\n      <td>0.592490</td>\n      <td>-0.604580</td>\n      <td>-1.180370</td>\n      <td>0.001829</td>\n      <td>-0.297658</td>\n      <td>five</td>\n    </tr>\n    <tr>\n      <th>2022-01-06</th>\n      <td>1.509371</td>\n      <td>-0.493017</td>\n      <td>-0.964426</td>\n      <td>0.436751</td>\n      <td>0.122170</td>\n      <td>six</td>\n    </tr>\n    <tr>\n      <th>2022-01-07</th>\n      <td>0.590318</td>\n      <td>1.494997</td>\n      <td>-1.622967</td>\n      <td>1.232837</td>\n      <td>0.423796</td>\n      <td>seven</td>\n    </tr>\n    <tr>\n      <th>2022-01-08</th>\n      <td>0.800911</td>\n      <td>-1.816093</td>\n      <td>-0.561189</td>\n      <td>1.433234</td>\n      <td>-0.035784</td>\n      <td>eight</td>\n    </tr>\n    <tr>\n      <th>2022-01-09</th>\n      <td>0.278477</td>\n      <td>-0.532994</td>\n      <td>-0.192371</td>\n      <td>-0.078092</td>\n      <td>-0.131245</td>\n      <td>nine</td>\n    </tr>\n    <tr>\n      <th>2022-01-10</th>\n      <td>0.463482</td>\n      <td>0.284556</td>\n      <td>-1.030208</td>\n      <td>0.405019</td>\n      <td>0.030712</td>\n      <td>ten</td>\n    </tr>\n  </tbody>\n</table>\n</div>"
     },
     "execution_count": 85,
     "metadata": {},
     "output_type": "execute_result"
    }
   ],
   "source": [
    "df_2[\"E\"]=[\"one\", \"two\",\"three\",\"four\",\"five\",\"six\",\"seven\",\"eight\",\"nine\",\"ten\"]\n",
    "df_2"
   ],
   "metadata": {
    "collapsed": false,
    "pycharm": {
     "name": "#%%\n"
    }
   }
  },
  {
   "cell_type": "markdown",
   "source": [
    "# Cheack Same Value b/w DataFrame"
   ],
   "metadata": {
    "collapsed": false,
    "pycharm": {
     "name": "#%% md\n"
    }
   }
  },
  {
   "cell_type": "code",
   "execution_count": 86,
   "outputs": [
    {
     "data": {
      "text/plain": "               A     B     C     D   Mean      E\n2022-01-01  True  True  True  True  False  False\n2022-01-02  True  True  True  True  False  False\n2022-01-03  True  True  True  True  False  False\n2022-01-04  True  True  True  True  False  False\n2022-01-05  True  True  True  True  False  False\n2022-01-06  True  True  True  True  False  False\n2022-01-07  True  True  True  True  False  False\n2022-01-08  True  True  True  True  False  False\n2022-01-09  True  True  True  True  False  False\n2022-01-10  True  True  True  True  False  False",
      "text/html": "<div>\n<style scoped>\n    .dataframe tbody tr th:only-of-type {\n        vertical-align: middle;\n    }\n\n    .dataframe tbody tr th {\n        vertical-align: top;\n    }\n\n    .dataframe thead th {\n        text-align: right;\n    }\n</style>\n<table border=\"1\" class=\"dataframe\">\n  <thead>\n    <tr style=\"text-align: right;\">\n      <th></th>\n      <th>A</th>\n      <th>B</th>\n      <th>C</th>\n      <th>D</th>\n      <th>Mean</th>\n      <th>E</th>\n    </tr>\n  </thead>\n  <tbody>\n    <tr>\n      <th>2022-01-01</th>\n      <td>True</td>\n      <td>True</td>\n      <td>True</td>\n      <td>True</td>\n      <td>False</td>\n      <td>False</td>\n    </tr>\n    <tr>\n      <th>2022-01-02</th>\n      <td>True</td>\n      <td>True</td>\n      <td>True</td>\n      <td>True</td>\n      <td>False</td>\n      <td>False</td>\n    </tr>\n    <tr>\n      <th>2022-01-03</th>\n      <td>True</td>\n      <td>True</td>\n      <td>True</td>\n      <td>True</td>\n      <td>False</td>\n      <td>False</td>\n    </tr>\n    <tr>\n      <th>2022-01-04</th>\n      <td>True</td>\n      <td>True</td>\n      <td>True</td>\n      <td>True</td>\n      <td>False</td>\n      <td>False</td>\n    </tr>\n    <tr>\n      <th>2022-01-05</th>\n      <td>True</td>\n      <td>True</td>\n      <td>True</td>\n      <td>True</td>\n      <td>False</td>\n      <td>False</td>\n    </tr>\n    <tr>\n      <th>2022-01-06</th>\n      <td>True</td>\n      <td>True</td>\n      <td>True</td>\n      <td>True</td>\n      <td>False</td>\n      <td>False</td>\n    </tr>\n    <tr>\n      <th>2022-01-07</th>\n      <td>True</td>\n      <td>True</td>\n      <td>True</td>\n      <td>True</td>\n      <td>False</td>\n      <td>False</td>\n    </tr>\n    <tr>\n      <th>2022-01-08</th>\n      <td>True</td>\n      <td>True</td>\n      <td>True</td>\n      <td>True</td>\n      <td>False</td>\n      <td>False</td>\n    </tr>\n    <tr>\n      <th>2022-01-09</th>\n      <td>True</td>\n      <td>True</td>\n      <td>True</td>\n      <td>True</td>\n      <td>False</td>\n      <td>False</td>\n    </tr>\n    <tr>\n      <th>2022-01-10</th>\n      <td>True</td>\n      <td>True</td>\n      <td>True</td>\n      <td>True</td>\n      <td>False</td>\n      <td>False</td>\n    </tr>\n  </tbody>\n</table>\n</div>"
     },
     "execution_count": 86,
     "metadata": {},
     "output_type": "execute_result"
    }
   ],
   "source": [
    "df_2.isin(df)"
   ],
   "metadata": {
    "collapsed": false,
    "pycharm": {
     "name": "#%%\n"
    }
   }
  },
  {
   "cell_type": "code",
   "execution_count": 87,
   "outputs": [
    {
     "data": {
      "text/plain": "               A     B     C     D\n2022-01-01  True  True  True  True\n2022-01-02  True  True  True  True\n2022-01-03  True  True  True  True\n2022-01-04  True  True  True  True\n2022-01-05  True  True  True  True\n2022-01-06  True  True  True  True\n2022-01-07  True  True  True  True\n2022-01-08  True  True  True  True\n2022-01-09  True  True  True  True\n2022-01-10  True  True  True  True",
      "text/html": "<div>\n<style scoped>\n    .dataframe tbody tr th:only-of-type {\n        vertical-align: middle;\n    }\n\n    .dataframe tbody tr th {\n        vertical-align: top;\n    }\n\n    .dataframe thead th {\n        text-align: right;\n    }\n</style>\n<table border=\"1\" class=\"dataframe\">\n  <thead>\n    <tr style=\"text-align: right;\">\n      <th></th>\n      <th>A</th>\n      <th>B</th>\n      <th>C</th>\n      <th>D</th>\n    </tr>\n  </thead>\n  <tbody>\n    <tr>\n      <th>2022-01-01</th>\n      <td>True</td>\n      <td>True</td>\n      <td>True</td>\n      <td>True</td>\n    </tr>\n    <tr>\n      <th>2022-01-02</th>\n      <td>True</td>\n      <td>True</td>\n      <td>True</td>\n      <td>True</td>\n    </tr>\n    <tr>\n      <th>2022-01-03</th>\n      <td>True</td>\n      <td>True</td>\n      <td>True</td>\n      <td>True</td>\n    </tr>\n    <tr>\n      <th>2022-01-04</th>\n      <td>True</td>\n      <td>True</td>\n      <td>True</td>\n      <td>True</td>\n    </tr>\n    <tr>\n      <th>2022-01-05</th>\n      <td>True</td>\n      <td>True</td>\n      <td>True</td>\n      <td>True</td>\n    </tr>\n    <tr>\n      <th>2022-01-06</th>\n      <td>True</td>\n      <td>True</td>\n      <td>True</td>\n      <td>True</td>\n    </tr>\n    <tr>\n      <th>2022-01-07</th>\n      <td>True</td>\n      <td>True</td>\n      <td>True</td>\n      <td>True</td>\n    </tr>\n    <tr>\n      <th>2022-01-08</th>\n      <td>True</td>\n      <td>True</td>\n      <td>True</td>\n      <td>True</td>\n    </tr>\n    <tr>\n      <th>2022-01-09</th>\n      <td>True</td>\n      <td>True</td>\n      <td>True</td>\n      <td>True</td>\n    </tr>\n    <tr>\n      <th>2022-01-10</th>\n      <td>True</td>\n      <td>True</td>\n      <td>True</td>\n      <td>True</td>\n    </tr>\n  </tbody>\n</table>\n</div>"
     },
     "execution_count": 87,
     "metadata": {},
     "output_type": "execute_result"
    }
   ],
   "source": [
    "df.isin(df_2)"
   ],
   "metadata": {
    "collapsed": false,
    "pycharm": {
     "name": "#%%\n"
    }
   }
  },
  {
   "cell_type": "code",
   "execution_count": 88,
   "outputs": [
    {
     "data": {
      "text/plain": "                   A         B         C         D      Mean      E\n2022-01-01  0.106638 -0.225311 -0.713244  0.460247 -0.092917    one\n2022-01-02 -0.053702 -2.183745  0.903487 -1.617049 -0.737752    two\n2022-01-03  0.206213 -0.858194 -1.449866 -0.252089 -0.588484  three\n2022-01-04 -0.550779  0.051097  0.185565 -0.760471 -0.268647   four\n2022-01-05  0.592490 -0.604580 -1.180370  0.001829 -0.297658   five\n2022-01-06  1.509371 -0.493017 -0.964426  0.436751  0.122170    six\n2022-01-07  0.590318  1.494997 -1.622967  1.232837  0.423796  seven\n2022-01-08  0.800911 -1.816093 -0.561189  1.433234 -0.035784  eight\n2022-01-09  0.278477 -0.532994 -0.192371 -0.078092 -0.131245   nine\n2022-01-10  0.463482  0.284556 -1.030208  0.405019  0.030712    ten",
      "text/html": "<div>\n<style scoped>\n    .dataframe tbody tr th:only-of-type {\n        vertical-align: middle;\n    }\n\n    .dataframe tbody tr th {\n        vertical-align: top;\n    }\n\n    .dataframe thead th {\n        text-align: right;\n    }\n</style>\n<table border=\"1\" class=\"dataframe\">\n  <thead>\n    <tr style=\"text-align: right;\">\n      <th></th>\n      <th>A</th>\n      <th>B</th>\n      <th>C</th>\n      <th>D</th>\n      <th>Mean</th>\n      <th>E</th>\n    </tr>\n  </thead>\n  <tbody>\n    <tr>\n      <th>2022-01-01</th>\n      <td>0.106638</td>\n      <td>-0.225311</td>\n      <td>-0.713244</td>\n      <td>0.460247</td>\n      <td>-0.092917</td>\n      <td>one</td>\n    </tr>\n    <tr>\n      <th>2022-01-02</th>\n      <td>-0.053702</td>\n      <td>-2.183745</td>\n      <td>0.903487</td>\n      <td>-1.617049</td>\n      <td>-0.737752</td>\n      <td>two</td>\n    </tr>\n    <tr>\n      <th>2022-01-03</th>\n      <td>0.206213</td>\n      <td>-0.858194</td>\n      <td>-1.449866</td>\n      <td>-0.252089</td>\n      <td>-0.588484</td>\n      <td>three</td>\n    </tr>\n    <tr>\n      <th>2022-01-04</th>\n      <td>-0.550779</td>\n      <td>0.051097</td>\n      <td>0.185565</td>\n      <td>-0.760471</td>\n      <td>-0.268647</td>\n      <td>four</td>\n    </tr>\n    <tr>\n      <th>2022-01-05</th>\n      <td>0.592490</td>\n      <td>-0.604580</td>\n      <td>-1.180370</td>\n      <td>0.001829</td>\n      <td>-0.297658</td>\n      <td>five</td>\n    </tr>\n    <tr>\n      <th>2022-01-06</th>\n      <td>1.509371</td>\n      <td>-0.493017</td>\n      <td>-0.964426</td>\n      <td>0.436751</td>\n      <td>0.122170</td>\n      <td>six</td>\n    </tr>\n    <tr>\n      <th>2022-01-07</th>\n      <td>0.590318</td>\n      <td>1.494997</td>\n      <td>-1.622967</td>\n      <td>1.232837</td>\n      <td>0.423796</td>\n      <td>seven</td>\n    </tr>\n    <tr>\n      <th>2022-01-08</th>\n      <td>0.800911</td>\n      <td>-1.816093</td>\n      <td>-0.561189</td>\n      <td>1.433234</td>\n      <td>-0.035784</td>\n      <td>eight</td>\n    </tr>\n    <tr>\n      <th>2022-01-09</th>\n      <td>0.278477</td>\n      <td>-0.532994</td>\n      <td>-0.192371</td>\n      <td>-0.078092</td>\n      <td>-0.131245</td>\n      <td>nine</td>\n    </tr>\n    <tr>\n      <th>2022-01-10</th>\n      <td>0.463482</td>\n      <td>0.284556</td>\n      <td>-1.030208</td>\n      <td>0.405019</td>\n      <td>0.030712</td>\n      <td>ten</td>\n    </tr>\n  </tbody>\n</table>\n</div>"
     },
     "execution_count": 88,
     "metadata": {},
     "output_type": "execute_result"
    }
   ],
   "source": [
    "df_2"
   ],
   "metadata": {
    "collapsed": false,
    "pycharm": {
     "name": "#%%\n"
    }
   }
  },
  {
   "cell_type": "code",
   "execution_count": 83,
   "outputs": [
    {
     "data": {
      "text/plain": "                   A         B         C         D\n2022-01-01  0.106638 -0.225311 -0.713244  0.460247\n2022-01-02 -0.053702 -2.183745  0.903487 -1.617049\n2022-01-03  0.206213 -0.858194 -1.449866 -0.252089\n2022-01-04 -0.550779  0.051097  0.185565 -0.760471\n2022-01-05  0.592490 -0.604580 -1.180370  0.001829\n2022-01-06  1.509371 -0.493017 -0.964426  0.436751\n2022-01-07  0.590318  1.494997 -1.622967  1.232837\n2022-01-08  0.800911 -1.816093 -0.561189  1.433234\n2022-01-09  0.278477 -0.532994 -0.192371 -0.078092\n2022-01-10  0.463482  0.284556 -1.030208  0.405019",
      "text/html": "<div>\n<style scoped>\n    .dataframe tbody tr th:only-of-type {\n        vertical-align: middle;\n    }\n\n    .dataframe tbody tr th {\n        vertical-align: top;\n    }\n\n    .dataframe thead th {\n        text-align: right;\n    }\n</style>\n<table border=\"1\" class=\"dataframe\">\n  <thead>\n    <tr style=\"text-align: right;\">\n      <th></th>\n      <th>A</th>\n      <th>B</th>\n      <th>C</th>\n      <th>D</th>\n    </tr>\n  </thead>\n  <tbody>\n    <tr>\n      <th>2022-01-01</th>\n      <td>0.106638</td>\n      <td>-0.225311</td>\n      <td>-0.713244</td>\n      <td>0.460247</td>\n    </tr>\n    <tr>\n      <th>2022-01-02</th>\n      <td>-0.053702</td>\n      <td>-2.183745</td>\n      <td>0.903487</td>\n      <td>-1.617049</td>\n    </tr>\n    <tr>\n      <th>2022-01-03</th>\n      <td>0.206213</td>\n      <td>-0.858194</td>\n      <td>-1.449866</td>\n      <td>-0.252089</td>\n    </tr>\n    <tr>\n      <th>2022-01-04</th>\n      <td>-0.550779</td>\n      <td>0.051097</td>\n      <td>0.185565</td>\n      <td>-0.760471</td>\n    </tr>\n    <tr>\n      <th>2022-01-05</th>\n      <td>0.592490</td>\n      <td>-0.604580</td>\n      <td>-1.180370</td>\n      <td>0.001829</td>\n    </tr>\n    <tr>\n      <th>2022-01-06</th>\n      <td>1.509371</td>\n      <td>-0.493017</td>\n      <td>-0.964426</td>\n      <td>0.436751</td>\n    </tr>\n    <tr>\n      <th>2022-01-07</th>\n      <td>0.590318</td>\n      <td>1.494997</td>\n      <td>-1.622967</td>\n      <td>1.232837</td>\n    </tr>\n    <tr>\n      <th>2022-01-08</th>\n      <td>0.800911</td>\n      <td>-1.816093</td>\n      <td>-0.561189</td>\n      <td>1.433234</td>\n    </tr>\n    <tr>\n      <th>2022-01-09</th>\n      <td>0.278477</td>\n      <td>-0.532994</td>\n      <td>-0.192371</td>\n      <td>-0.078092</td>\n    </tr>\n    <tr>\n      <th>2022-01-10</th>\n      <td>0.463482</td>\n      <td>0.284556</td>\n      <td>-1.030208</td>\n      <td>0.405019</td>\n    </tr>\n  </tbody>\n</table>\n</div>"
     },
     "execution_count": 83,
     "metadata": {},
     "output_type": "execute_result"
    }
   ],
   "source": [],
   "metadata": {
    "collapsed": false,
    "pycharm": {
     "name": "#%%\n"
    }
   }
  }
 ],
 "metadata": {
  "kernelspec": {
   "display_name": "Python 3",
   "language": "python",
   "name": "python3"
  },
  "language_info": {
   "codemirror_mode": {
    "name": "ipython",
    "version": 2
   },
   "file_extension": ".py",
   "mimetype": "text/x-python",
   "name": "python",
   "nbconvert_exporter": "python",
   "pygments_lexer": "ipython2",
   "version": "2.7.6"
  }
 },
 "nbformat": 4,
 "nbformat_minor": 0
}